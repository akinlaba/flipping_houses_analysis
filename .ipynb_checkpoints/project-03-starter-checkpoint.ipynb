{
 "cells": [
  {
   "cell_type": "markdown",
   "metadata": {},
   "source": [
    "<img src=\"http://imgur.com/1ZcRyrc.png\" style=\"float: left; margin: 15px; height: 80px\">\n",
    "\n",
    "# Project 3\n",
    "\n",
    "### Regression and Classification with the Ames Housing Data\n",
    "\n",
    "---\n",
    "\n",
    "You have just joined a new \"full stack\" real estate company in Ames, Iowa. The strategy of the firm is two-fold:\n",
    "- Own the entire process from the purchase of the land all the way to sale of the house, and anything in between.\n",
    "- Use statistical analysis to optimize investment and maximize return.\n",
    "\n",
    "The company is still small, and though investment is substantial the short-term goals of the company are more oriented towards purchasing existing houses and flipping them as opposed to constructing entirely new houses. That being said, the company has access to a large construction workforce operating at rock-bottom prices.\n",
    "\n",
    "This project uses the [Ames housing data recently made available on kaggle](https://www.kaggle.com/c/house-prices-advanced-regression-techniques)."
   ]
  },
  {
   "cell_type": "code",
   "execution_count": 266,
   "metadata": {
    "collapsed": true
   },
   "outputs": [],
   "source": [
    "import numpy as np\n",
    "import scipy.stats as stats\n",
    "import seaborn as sns\n",
    "import matplotlib.pyplot as plt\n",
    "import pandas as pd\n",
    "from sklearn.linear_model import Ridge, Lasso, ElasticNet, LinearRegression\n",
    "from sklearn.model_selection import cross_val_score\n",
    "from sklearn.preprocessing import StandardScaler\n",
    "\n",
    "sns.set_style('whitegrid')\n",
    "\n",
    "%config InlineBackend.figure_format = 'retina'\n",
    "%matplotlib inline"
   ]
  },
  {
   "cell_type": "markdown",
   "metadata": {},
   "source": [
    "<img src=\"http://imgur.com/l5NasQj.png\" style=\"float: left; margin: 25px 15px 0px 0px; height: 25px\">\n",
    "\n",
    "## 1. Estimating the value of homes from fixed characteristics.\n",
    "\n",
    "---\n",
    "\n",
    "Your superiors have outlined this year's strategy for the company:\n",
    "1. Develop an algorithm to reliably estimate the value of residential houses based on *fixed* characteristics.\n",
    "2. Identify characteristics of houses that the company can cost-effectively change/renovate with their construction team.\n",
    "3. Evaluate the mean dollar value of different renovations.\n",
    "\n",
    "Then we can use that to buy houses that are likely to sell for more than the cost of the purchase plus renovations.\n",
    "\n",
    "Your first job is to tackle #1. You have a dataset of housing sale data with a huge amount of features identifying different aspects of the house. The full description of the data features can be found in a separate file:\n",
    "\n",
    "    housing.csv\n",
    "    data_description.txt\n",
    "    \n",
    "You need to build a reliable estimator for the price of the house given characteristics of the house that cannot be renovated. Some examples include:\n",
    "- The neighborhood\n",
    "- Square feet\n",
    "- Bedrooms, bathrooms\n",
    "- Basement and garage space\n",
    "\n",
    "and many more. \n",
    "\n",
    "Some examples of things that **ARE renovate-able:**\n",
    "- Roof and exterior features\n",
    "- \"Quality\" metrics, such as kitchen quality\n",
    "- \"Condition\" metrics, such as condition of garage\n",
    "- Heating and electrical components\n",
    "\n",
    "and generally anything you deem can be modified without having to undergo major construction on the house.\n",
    "\n",
    "---\n",
    "\n",
    "**Your goals:**\n",
    "1. Perform any cleaning, feature engineering, and EDA you deem necessary.\n",
    "- Be sure to remove any houses that are not residential from the dataset.\n",
    "- Identify **fixed** features that can predict price.\n",
    "- Train a model on pre-2010 data and evaluate its performance on the 2010 houses.\n",
    "- Characterize your model. How well does it perform? What are the best estimates of price?\n",
    "\n",
    "> **Note:** The EDA and feature engineering component to this project is not trivial! Be sure to always think critically and creatively. Justify your actions! Use the data description file!"
   ]
  },
  {
   "cell_type": "code",
   "execution_count": 267,
   "metadata": {
    "scrolled": true
   },
   "outputs": [
    {
     "name": "stdout",
     "output_type": "stream",
     "text": [
      "Id                 int64\n",
      "MSSubClass         int64\n",
      "MSZoning          object\n",
      "LotFrontage      float64\n",
      "LotArea            int64\n",
      "Street            object\n",
      "Alley             object\n",
      "LotShape          object\n",
      "LandContour       object\n",
      "Utilities         object\n",
      "LotConfig         object\n",
      "LandSlope         object\n",
      "Neighborhood      object\n",
      "Condition1        object\n",
      "Condition2        object\n",
      "BldgType          object\n",
      "HouseStyle        object\n",
      "OverallQual        int64\n",
      "OverallCond        int64\n",
      "YearBuilt          int64\n",
      "YearRemodAdd       int64\n",
      "RoofStyle         object\n",
      "RoofMatl          object\n",
      "Exterior1st       object\n",
      "Exterior2nd       object\n",
      "MasVnrType        object\n",
      "MasVnrArea       float64\n",
      "ExterQual         object\n",
      "ExterCond         object\n",
      "Foundation        object\n",
      "                  ...   \n",
      "BedroomAbvGr       int64\n",
      "KitchenAbvGr       int64\n",
      "KitchenQual       object\n",
      "TotRmsAbvGrd       int64\n",
      "Functional        object\n",
      "Fireplaces         int64\n",
      "FireplaceQu       object\n",
      "GarageType        object\n",
      "GarageYrBlt      float64\n",
      "GarageFinish      object\n",
      "GarageCars         int64\n",
      "GarageArea         int64\n",
      "GarageQual        object\n",
      "GarageCond        object\n",
      "PavedDrive        object\n",
      "WoodDeckSF         int64\n",
      "OpenPorchSF        int64\n",
      "EnclosedPorch      int64\n",
      "3SsnPorch          int64\n",
      "ScreenPorch        int64\n",
      "PoolArea           int64\n",
      "PoolQC            object\n",
      "Fence             object\n",
      "MiscFeature       object\n",
      "MiscVal            int64\n",
      "MoSold             int64\n",
      "YrSold             int64\n",
      "SaleType          object\n",
      "SaleCondition     object\n",
      "SalePrice          int64\n",
      "Length: 81, dtype: object\n",
      "(1460, 81)\n"
     ]
    },
    {
     "data": {
      "text/html": [
       "<div>\n",
       "<style>\n",
       "    .dataframe thead tr:only-child th {\n",
       "        text-align: right;\n",
       "    }\n",
       "\n",
       "    .dataframe thead th {\n",
       "        text-align: left;\n",
       "    }\n",
       "\n",
       "    .dataframe tbody tr th {\n",
       "        vertical-align: top;\n",
       "    }\n",
       "</style>\n",
       "<table border=\"1\" class=\"dataframe\">\n",
       "  <thead>\n",
       "    <tr style=\"text-align: right;\">\n",
       "      <th></th>\n",
       "      <th>Id</th>\n",
       "      <th>MSSubClass</th>\n",
       "      <th>MSZoning</th>\n",
       "      <th>LotFrontage</th>\n",
       "      <th>LotArea</th>\n",
       "      <th>Street</th>\n",
       "      <th>Alley</th>\n",
       "      <th>LotShape</th>\n",
       "      <th>LandContour</th>\n",
       "      <th>Utilities</th>\n",
       "      <th>...</th>\n",
       "      <th>PoolArea</th>\n",
       "      <th>PoolQC</th>\n",
       "      <th>Fence</th>\n",
       "      <th>MiscFeature</th>\n",
       "      <th>MiscVal</th>\n",
       "      <th>MoSold</th>\n",
       "      <th>YrSold</th>\n",
       "      <th>SaleType</th>\n",
       "      <th>SaleCondition</th>\n",
       "      <th>SalePrice</th>\n",
       "    </tr>\n",
       "  </thead>\n",
       "  <tbody>\n",
       "    <tr>\n",
       "      <th>0</th>\n",
       "      <td>1</td>\n",
       "      <td>60</td>\n",
       "      <td>RL</td>\n",
       "      <td>65.0</td>\n",
       "      <td>8450</td>\n",
       "      <td>Pave</td>\n",
       "      <td>NaN</td>\n",
       "      <td>Reg</td>\n",
       "      <td>Lvl</td>\n",
       "      <td>AllPub</td>\n",
       "      <td>...</td>\n",
       "      <td>0</td>\n",
       "      <td>NaN</td>\n",
       "      <td>NaN</td>\n",
       "      <td>NaN</td>\n",
       "      <td>0</td>\n",
       "      <td>2</td>\n",
       "      <td>2008</td>\n",
       "      <td>WD</td>\n",
       "      <td>Normal</td>\n",
       "      <td>208500</td>\n",
       "    </tr>\n",
       "    <tr>\n",
       "      <th>1</th>\n",
       "      <td>2</td>\n",
       "      <td>20</td>\n",
       "      <td>RL</td>\n",
       "      <td>80.0</td>\n",
       "      <td>9600</td>\n",
       "      <td>Pave</td>\n",
       "      <td>NaN</td>\n",
       "      <td>Reg</td>\n",
       "      <td>Lvl</td>\n",
       "      <td>AllPub</td>\n",
       "      <td>...</td>\n",
       "      <td>0</td>\n",
       "      <td>NaN</td>\n",
       "      <td>NaN</td>\n",
       "      <td>NaN</td>\n",
       "      <td>0</td>\n",
       "      <td>5</td>\n",
       "      <td>2007</td>\n",
       "      <td>WD</td>\n",
       "      <td>Normal</td>\n",
       "      <td>181500</td>\n",
       "    </tr>\n",
       "    <tr>\n",
       "      <th>2</th>\n",
       "      <td>3</td>\n",
       "      <td>60</td>\n",
       "      <td>RL</td>\n",
       "      <td>68.0</td>\n",
       "      <td>11250</td>\n",
       "      <td>Pave</td>\n",
       "      <td>NaN</td>\n",
       "      <td>IR1</td>\n",
       "      <td>Lvl</td>\n",
       "      <td>AllPub</td>\n",
       "      <td>...</td>\n",
       "      <td>0</td>\n",
       "      <td>NaN</td>\n",
       "      <td>NaN</td>\n",
       "      <td>NaN</td>\n",
       "      <td>0</td>\n",
       "      <td>9</td>\n",
       "      <td>2008</td>\n",
       "      <td>WD</td>\n",
       "      <td>Normal</td>\n",
       "      <td>223500</td>\n",
       "    </tr>\n",
       "    <tr>\n",
       "      <th>3</th>\n",
       "      <td>4</td>\n",
       "      <td>70</td>\n",
       "      <td>RL</td>\n",
       "      <td>60.0</td>\n",
       "      <td>9550</td>\n",
       "      <td>Pave</td>\n",
       "      <td>NaN</td>\n",
       "      <td>IR1</td>\n",
       "      <td>Lvl</td>\n",
       "      <td>AllPub</td>\n",
       "      <td>...</td>\n",
       "      <td>0</td>\n",
       "      <td>NaN</td>\n",
       "      <td>NaN</td>\n",
       "      <td>NaN</td>\n",
       "      <td>0</td>\n",
       "      <td>2</td>\n",
       "      <td>2006</td>\n",
       "      <td>WD</td>\n",
       "      <td>Abnorml</td>\n",
       "      <td>140000</td>\n",
       "    </tr>\n",
       "    <tr>\n",
       "      <th>4</th>\n",
       "      <td>5</td>\n",
       "      <td>60</td>\n",
       "      <td>RL</td>\n",
       "      <td>84.0</td>\n",
       "      <td>14260</td>\n",
       "      <td>Pave</td>\n",
       "      <td>NaN</td>\n",
       "      <td>IR1</td>\n",
       "      <td>Lvl</td>\n",
       "      <td>AllPub</td>\n",
       "      <td>...</td>\n",
       "      <td>0</td>\n",
       "      <td>NaN</td>\n",
       "      <td>NaN</td>\n",
       "      <td>NaN</td>\n",
       "      <td>0</td>\n",
       "      <td>12</td>\n",
       "      <td>2008</td>\n",
       "      <td>WD</td>\n",
       "      <td>Normal</td>\n",
       "      <td>250000</td>\n",
       "    </tr>\n",
       "  </tbody>\n",
       "</table>\n",
       "<p>5 rows × 81 columns</p>\n",
       "</div>"
      ],
      "text/plain": [
       "   Id  MSSubClass MSZoning  LotFrontage  LotArea Street Alley LotShape  \\\n",
       "0   1          60       RL         65.0     8450   Pave   NaN      Reg   \n",
       "1   2          20       RL         80.0     9600   Pave   NaN      Reg   \n",
       "2   3          60       RL         68.0    11250   Pave   NaN      IR1   \n",
       "3   4          70       RL         60.0     9550   Pave   NaN      IR1   \n",
       "4   5          60       RL         84.0    14260   Pave   NaN      IR1   \n",
       "\n",
       "  LandContour Utilities    ...     PoolArea PoolQC Fence MiscFeature MiscVal  \\\n",
       "0         Lvl    AllPub    ...            0    NaN   NaN         NaN       0   \n",
       "1         Lvl    AllPub    ...            0    NaN   NaN         NaN       0   \n",
       "2         Lvl    AllPub    ...            0    NaN   NaN         NaN       0   \n",
       "3         Lvl    AllPub    ...            0    NaN   NaN         NaN       0   \n",
       "4         Lvl    AllPub    ...            0    NaN   NaN         NaN       0   \n",
       "\n",
       "  MoSold YrSold  SaleType  SaleCondition  SalePrice  \n",
       "0      2   2008        WD         Normal     208500  \n",
       "1      5   2007        WD         Normal     181500  \n",
       "2      9   2008        WD         Normal     223500  \n",
       "3      2   2006        WD        Abnorml     140000  \n",
       "4     12   2008        WD         Normal     250000  \n",
       "\n",
       "[5 rows x 81 columns]"
      ]
     },
     "execution_count": 267,
     "metadata": {},
     "output_type": "execute_result"
    }
   ],
   "source": [
    "# Load the data\n",
    "house = pd.read_csv('./housing.csv')\n",
    "print house.dtypes\n",
    "print house.shape\n",
    "house.head()"
   ]
  },
  {
   "cell_type": "code",
   "execution_count": 268,
   "metadata": {
    "scrolled": false
   },
   "outputs": [
    {
     "data": {
      "text/plain": [
       "Index([u'Id', u'MSSubClass', u'MSZoning', u'LotFrontage', u'LotArea',\n",
       "       u'Street', u'Alley', u'LotShape', u'LandContour', u'Utilities',\n",
       "       u'LotConfig', u'LandSlope', u'Neighborhood', u'Condition1',\n",
       "       u'Condition2', u'BldgType', u'HouseStyle', u'OverallQual',\n",
       "       u'OverallCond', u'YearBuilt', u'YearRemodAdd', u'RoofStyle',\n",
       "       u'RoofMatl', u'Exterior1st', u'Exterior2nd', u'MasVnrType',\n",
       "       u'MasVnrArea', u'ExterQual', u'ExterCond', u'Foundation', u'BsmtQual',\n",
       "       u'BsmtCond', u'BsmtExposure', u'BsmtFinType1', u'BsmtFinSF1',\n",
       "       u'BsmtFinType2', u'BsmtFinSF2', u'BsmtUnfSF', u'TotalBsmtSF',\n",
       "       u'Heating', u'HeatingQC', u'CentralAir', u'Electrical', u'1stFlrSF',\n",
       "       u'2ndFlrSF', u'LowQualFinSF', u'GrLivArea', u'BsmtFullBath',\n",
       "       u'BsmtHalfBath', u'FullBath', u'HalfBath', u'BedroomAbvGr',\n",
       "       u'KitchenAbvGr', u'KitchenQual', u'TotRmsAbvGrd', u'Functional',\n",
       "       u'Fireplaces', u'FireplaceQu', u'GarageType', u'GarageYrBlt',\n",
       "       u'GarageFinish', u'GarageCars', u'GarageArea', u'GarageQual',\n",
       "       u'GarageCond', u'PavedDrive', u'WoodDeckSF', u'OpenPorchSF',\n",
       "       u'EnclosedPorch', u'3SsnPorch', u'ScreenPorch', u'PoolArea', u'PoolQC',\n",
       "       u'Fence', u'MiscFeature', u'MiscVal', u'MoSold', u'YrSold', u'SaleType',\n",
       "       u'SaleCondition', u'SalePrice'],\n",
       "      dtype='object')"
      ]
     },
     "execution_count": 268,
     "metadata": {},
     "output_type": "execute_result"
    }
   ],
   "source": [
    "# A:\n",
    "house.columns\n"
   ]
  },
  {
   "cell_type": "code",
   "execution_count": 269,
   "metadata": {
    "scrolled": true
   },
   "outputs": [
    {
     "name": "stdout",
     "output_type": "stream",
     "text": [
      "Id                  0\n",
      "MSSubClass          0\n",
      "MSZoning            0\n",
      "LotFrontage       259\n",
      "LotArea             0\n",
      "Street              0\n",
      "Alley            1369\n",
      "LotShape            0\n",
      "LandContour         0\n",
      "Utilities           0\n",
      "LotConfig           0\n",
      "LandSlope           0\n",
      "Neighborhood        0\n",
      "Condition1          0\n",
      "Condition2          0\n",
      "BldgType            0\n",
      "HouseStyle          0\n",
      "OverallQual         0\n",
      "OverallCond         0\n",
      "YearBuilt           0\n",
      "YearRemodAdd        0\n",
      "RoofStyle           0\n",
      "RoofMatl            0\n",
      "Exterior1st         0\n",
      "Exterior2nd         0\n",
      "MasVnrType          8\n",
      "MasVnrArea          8\n",
      "ExterQual           0\n",
      "ExterCond           0\n",
      "Foundation          0\n",
      "                 ... \n",
      "BedroomAbvGr        0\n",
      "KitchenAbvGr        0\n",
      "KitchenQual         0\n",
      "TotRmsAbvGrd        0\n",
      "Functional          0\n",
      "Fireplaces          0\n",
      "FireplaceQu       690\n",
      "GarageType         81\n",
      "GarageYrBlt        81\n",
      "GarageFinish       81\n",
      "GarageCars          0\n",
      "GarageArea          0\n",
      "GarageQual         81\n",
      "GarageCond         81\n",
      "PavedDrive          0\n",
      "WoodDeckSF          0\n",
      "OpenPorchSF         0\n",
      "EnclosedPorch       0\n",
      "3SsnPorch           0\n",
      "ScreenPorch         0\n",
      "PoolArea            0\n",
      "PoolQC           1453\n",
      "Fence            1179\n",
      "MiscFeature      1406\n",
      "MiscVal             0\n",
      "MoSold              0\n",
      "YrSold              0\n",
      "SaleType            0\n",
      "SaleCondition       0\n",
      "SalePrice           0\n",
      "Length: 81, dtype: int64\n"
     ]
    }
   ],
   "source": [
    "print house.isnull().sum()"
   ]
  },
  {
   "cell_type": "code",
   "execution_count": 270,
   "metadata": {
    "collapsed": true
   },
   "outputs": [],
   "source": [
    "# Obtaining residential homes from data provided\n",
    "\n",
    "mask = house['MSZoning'].isin(['A', 'C', 'I', 'C (all)'])\n",
    "df = house[~mask]"
   ]
  },
  {
   "cell_type": "code",
   "execution_count": 271,
   "metadata": {},
   "outputs": [
    {
     "data": {
      "text/plain": [
       "RL    1151\n",
       "RM     218\n",
       "FV      65\n",
       "RH      16\n",
       "Name: MSZoning, dtype: int64"
      ]
     },
     "execution_count": 271,
     "metadata": {},
     "output_type": "execute_result"
    }
   ],
   "source": [
    "df.MSZoning.value_counts()\n"
   ]
  },
  {
   "cell_type": "code",
   "execution_count": 272,
   "metadata": {},
   "outputs": [
    {
     "data": {
      "text/html": [
       "<div>\n",
       "<style>\n",
       "    .dataframe thead tr:only-child th {\n",
       "        text-align: right;\n",
       "    }\n",
       "\n",
       "    .dataframe thead th {\n",
       "        text-align: left;\n",
       "    }\n",
       "\n",
       "    .dataframe tbody tr th {\n",
       "        vertical-align: top;\n",
       "    }\n",
       "</style>\n",
       "<table border=\"1\" class=\"dataframe\">\n",
       "  <thead>\n",
       "    <tr style=\"text-align: right;\">\n",
       "      <th></th>\n",
       "      <th>Id</th>\n",
       "      <th>MSSubClass</th>\n",
       "      <th>MSZoning</th>\n",
       "      <th>LotFrontage</th>\n",
       "      <th>LotArea</th>\n",
       "      <th>Street</th>\n",
       "      <th>Alley</th>\n",
       "      <th>LotShape</th>\n",
       "      <th>LandContour</th>\n",
       "      <th>Utilities</th>\n",
       "      <th>...</th>\n",
       "      <th>PoolArea</th>\n",
       "      <th>PoolQC</th>\n",
       "      <th>Fence</th>\n",
       "      <th>MiscFeature</th>\n",
       "      <th>MiscVal</th>\n",
       "      <th>MoSold</th>\n",
       "      <th>YrSold</th>\n",
       "      <th>SaleType</th>\n",
       "      <th>SaleCondition</th>\n",
       "      <th>SalePrice</th>\n",
       "    </tr>\n",
       "  </thead>\n",
       "  <tbody>\n",
       "    <tr>\n",
       "      <th>0</th>\n",
       "      <td>1</td>\n",
       "      <td>60</td>\n",
       "      <td>RL</td>\n",
       "      <td>65.0</td>\n",
       "      <td>8450</td>\n",
       "      <td>Pave</td>\n",
       "      <td>NaN</td>\n",
       "      <td>Reg</td>\n",
       "      <td>Lvl</td>\n",
       "      <td>AllPub</td>\n",
       "      <td>...</td>\n",
       "      <td>0</td>\n",
       "      <td>NaN</td>\n",
       "      <td>NaN</td>\n",
       "      <td>NaN</td>\n",
       "      <td>0</td>\n",
       "      <td>2</td>\n",
       "      <td>2008</td>\n",
       "      <td>WD</td>\n",
       "      <td>Normal</td>\n",
       "      <td>208500</td>\n",
       "    </tr>\n",
       "    <tr>\n",
       "      <th>1</th>\n",
       "      <td>2</td>\n",
       "      <td>20</td>\n",
       "      <td>RL</td>\n",
       "      <td>80.0</td>\n",
       "      <td>9600</td>\n",
       "      <td>Pave</td>\n",
       "      <td>NaN</td>\n",
       "      <td>Reg</td>\n",
       "      <td>Lvl</td>\n",
       "      <td>AllPub</td>\n",
       "      <td>...</td>\n",
       "      <td>0</td>\n",
       "      <td>NaN</td>\n",
       "      <td>NaN</td>\n",
       "      <td>NaN</td>\n",
       "      <td>0</td>\n",
       "      <td>5</td>\n",
       "      <td>2007</td>\n",
       "      <td>WD</td>\n",
       "      <td>Normal</td>\n",
       "      <td>181500</td>\n",
       "    </tr>\n",
       "    <tr>\n",
       "      <th>2</th>\n",
       "      <td>3</td>\n",
       "      <td>60</td>\n",
       "      <td>RL</td>\n",
       "      <td>68.0</td>\n",
       "      <td>11250</td>\n",
       "      <td>Pave</td>\n",
       "      <td>NaN</td>\n",
       "      <td>IR1</td>\n",
       "      <td>Lvl</td>\n",
       "      <td>AllPub</td>\n",
       "      <td>...</td>\n",
       "      <td>0</td>\n",
       "      <td>NaN</td>\n",
       "      <td>NaN</td>\n",
       "      <td>NaN</td>\n",
       "      <td>0</td>\n",
       "      <td>9</td>\n",
       "      <td>2008</td>\n",
       "      <td>WD</td>\n",
       "      <td>Normal</td>\n",
       "      <td>223500</td>\n",
       "    </tr>\n",
       "    <tr>\n",
       "      <th>3</th>\n",
       "      <td>4</td>\n",
       "      <td>70</td>\n",
       "      <td>RL</td>\n",
       "      <td>60.0</td>\n",
       "      <td>9550</td>\n",
       "      <td>Pave</td>\n",
       "      <td>NaN</td>\n",
       "      <td>IR1</td>\n",
       "      <td>Lvl</td>\n",
       "      <td>AllPub</td>\n",
       "      <td>...</td>\n",
       "      <td>0</td>\n",
       "      <td>NaN</td>\n",
       "      <td>NaN</td>\n",
       "      <td>NaN</td>\n",
       "      <td>0</td>\n",
       "      <td>2</td>\n",
       "      <td>2006</td>\n",
       "      <td>WD</td>\n",
       "      <td>Abnorml</td>\n",
       "      <td>140000</td>\n",
       "    </tr>\n",
       "    <tr>\n",
       "      <th>4</th>\n",
       "      <td>5</td>\n",
       "      <td>60</td>\n",
       "      <td>RL</td>\n",
       "      <td>84.0</td>\n",
       "      <td>14260</td>\n",
       "      <td>Pave</td>\n",
       "      <td>NaN</td>\n",
       "      <td>IR1</td>\n",
       "      <td>Lvl</td>\n",
       "      <td>AllPub</td>\n",
       "      <td>...</td>\n",
       "      <td>0</td>\n",
       "      <td>NaN</td>\n",
       "      <td>NaN</td>\n",
       "      <td>NaN</td>\n",
       "      <td>0</td>\n",
       "      <td>12</td>\n",
       "      <td>2008</td>\n",
       "      <td>WD</td>\n",
       "      <td>Normal</td>\n",
       "      <td>250000</td>\n",
       "    </tr>\n",
       "  </tbody>\n",
       "</table>\n",
       "<p>5 rows × 81 columns</p>\n",
       "</div>"
      ],
      "text/plain": [
       "   Id  MSSubClass MSZoning  LotFrontage  LotArea Street Alley LotShape  \\\n",
       "0   1          60       RL         65.0     8450   Pave   NaN      Reg   \n",
       "1   2          20       RL         80.0     9600   Pave   NaN      Reg   \n",
       "2   3          60       RL         68.0    11250   Pave   NaN      IR1   \n",
       "3   4          70       RL         60.0     9550   Pave   NaN      IR1   \n",
       "4   5          60       RL         84.0    14260   Pave   NaN      IR1   \n",
       "\n",
       "  LandContour Utilities    ...     PoolArea PoolQC Fence MiscFeature MiscVal  \\\n",
       "0         Lvl    AllPub    ...            0    NaN   NaN         NaN       0   \n",
       "1         Lvl    AllPub    ...            0    NaN   NaN         NaN       0   \n",
       "2         Lvl    AllPub    ...            0    NaN   NaN         NaN       0   \n",
       "3         Lvl    AllPub    ...            0    NaN   NaN         NaN       0   \n",
       "4         Lvl    AllPub    ...            0    NaN   NaN         NaN       0   \n",
       "\n",
       "  MoSold YrSold  SaleType  SaleCondition  SalePrice  \n",
       "0      2   2008        WD         Normal     208500  \n",
       "1      5   2007        WD         Normal     181500  \n",
       "2      9   2008        WD         Normal     223500  \n",
       "3      2   2006        WD        Abnorml     140000  \n",
       "4     12   2008        WD         Normal     250000  \n",
       "\n",
       "[5 rows x 81 columns]"
      ]
     },
     "execution_count": 272,
     "metadata": {},
     "output_type": "execute_result"
    }
   ],
   "source": [
    "df.head()"
   ]
  },
  {
   "cell_type": "code",
   "execution_count": 273,
   "metadata": {},
   "outputs": [
    {
     "data": {
      "text/html": [
       "<div>\n",
       "<style>\n",
       "    .dataframe thead tr:only-child th {\n",
       "        text-align: right;\n",
       "    }\n",
       "\n",
       "    .dataframe thead th {\n",
       "        text-align: left;\n",
       "    }\n",
       "\n",
       "    .dataframe tbody tr th {\n",
       "        vertical-align: top;\n",
       "    }\n",
       "</style>\n",
       "<table border=\"1\" class=\"dataframe\">\n",
       "  <thead>\n",
       "    <tr style=\"text-align: right;\">\n",
       "      <th></th>\n",
       "      <th>1stFlrSF</th>\n",
       "      <th>2ndFlrSF</th>\n",
       "      <th>LowQualFinSF</th>\n",
       "      <th>GrLivArea</th>\n",
       "    </tr>\n",
       "  </thead>\n",
       "  <tbody>\n",
       "    <tr>\n",
       "      <th>0</th>\n",
       "      <td>856</td>\n",
       "      <td>854</td>\n",
       "      <td>0</td>\n",
       "      <td>1710</td>\n",
       "    </tr>\n",
       "    <tr>\n",
       "      <th>1</th>\n",
       "      <td>1262</td>\n",
       "      <td>0</td>\n",
       "      <td>0</td>\n",
       "      <td>1262</td>\n",
       "    </tr>\n",
       "    <tr>\n",
       "      <th>2</th>\n",
       "      <td>920</td>\n",
       "      <td>866</td>\n",
       "      <td>0</td>\n",
       "      <td>1786</td>\n",
       "    </tr>\n",
       "    <tr>\n",
       "      <th>3</th>\n",
       "      <td>961</td>\n",
       "      <td>756</td>\n",
       "      <td>0</td>\n",
       "      <td>1717</td>\n",
       "    </tr>\n",
       "    <tr>\n",
       "      <th>4</th>\n",
       "      <td>1145</td>\n",
       "      <td>1053</td>\n",
       "      <td>0</td>\n",
       "      <td>2198</td>\n",
       "    </tr>\n",
       "  </tbody>\n",
       "</table>\n",
       "</div>"
      ],
      "text/plain": [
       "   1stFlrSF  2ndFlrSF  LowQualFinSF  GrLivArea\n",
       "0       856       854             0       1710\n",
       "1      1262         0             0       1262\n",
       "2       920       866             0       1786\n",
       "3       961       756             0       1717\n",
       "4      1145      1053             0       2198"
      ]
     },
     "execution_count": 273,
     "metadata": {},
     "output_type": "execute_result"
    }
   ],
   "source": [
    "df[['1stFlrSF', '2ndFlrSF', 'LowQualFinSF', 'GrLivArea']].head()"
   ]
  },
  {
   "cell_type": "code",
   "execution_count": 274,
   "metadata": {},
   "outputs": [
    {
     "name": "stderr",
     "output_type": "stream",
     "text": [
      "/usr/local/lib/python2.7/site-packages/ipykernel_launcher.py:3: SettingWithCopyWarning: \n",
      "A value is trying to be set on a copy of a slice from a DataFrame.\n",
      "Try using .loc[row_indexer,col_indexer] = value instead\n",
      "\n",
      "See the caveats in the documentation: http://pandas.pydata.org/pandas-docs/stable/indexing.html#indexing-view-versus-copy\n",
      "  This is separate from the ipykernel package so we can avoid doing imports until\n"
     ]
    }
   ],
   "source": [
    "# engineering total square feet feature \n",
    "\n",
    "df['total_sqft'] = df.GrLivArea + df.GarageArea + df.TotalBsmtSF"
   ]
  },
  {
   "cell_type": "code",
   "execution_count": 275,
   "metadata": {},
   "outputs": [
    {
     "data": {
      "text/html": [
       "<div>\n",
       "<style>\n",
       "    .dataframe thead tr:only-child th {\n",
       "        text-align: right;\n",
       "    }\n",
       "\n",
       "    .dataframe thead th {\n",
       "        text-align: left;\n",
       "    }\n",
       "\n",
       "    .dataframe tbody tr th {\n",
       "        vertical-align: top;\n",
       "    }\n",
       "</style>\n",
       "<table border=\"1\" class=\"dataframe\">\n",
       "  <thead>\n",
       "    <tr style=\"text-align: right;\">\n",
       "      <th></th>\n",
       "      <th>Id</th>\n",
       "      <th>MSSubClass</th>\n",
       "      <th>MSZoning</th>\n",
       "      <th>LotFrontage</th>\n",
       "      <th>LotArea</th>\n",
       "      <th>Street</th>\n",
       "      <th>Alley</th>\n",
       "      <th>LotShape</th>\n",
       "      <th>LandContour</th>\n",
       "      <th>Utilities</th>\n",
       "      <th>...</th>\n",
       "      <th>PoolQC</th>\n",
       "      <th>Fence</th>\n",
       "      <th>MiscFeature</th>\n",
       "      <th>MiscVal</th>\n",
       "      <th>MoSold</th>\n",
       "      <th>YrSold</th>\n",
       "      <th>SaleType</th>\n",
       "      <th>SaleCondition</th>\n",
       "      <th>SalePrice</th>\n",
       "      <th>total_sqft</th>\n",
       "    </tr>\n",
       "  </thead>\n",
       "  <tbody>\n",
       "    <tr>\n",
       "      <th>0</th>\n",
       "      <td>1</td>\n",
       "      <td>60</td>\n",
       "      <td>RL</td>\n",
       "      <td>65.0</td>\n",
       "      <td>8450</td>\n",
       "      <td>Pave</td>\n",
       "      <td>NaN</td>\n",
       "      <td>Reg</td>\n",
       "      <td>Lvl</td>\n",
       "      <td>AllPub</td>\n",
       "      <td>...</td>\n",
       "      <td>NaN</td>\n",
       "      <td>NaN</td>\n",
       "      <td>NaN</td>\n",
       "      <td>0</td>\n",
       "      <td>2</td>\n",
       "      <td>2008</td>\n",
       "      <td>WD</td>\n",
       "      <td>Normal</td>\n",
       "      <td>208500</td>\n",
       "      <td>3114</td>\n",
       "    </tr>\n",
       "    <tr>\n",
       "      <th>1</th>\n",
       "      <td>2</td>\n",
       "      <td>20</td>\n",
       "      <td>RL</td>\n",
       "      <td>80.0</td>\n",
       "      <td>9600</td>\n",
       "      <td>Pave</td>\n",
       "      <td>NaN</td>\n",
       "      <td>Reg</td>\n",
       "      <td>Lvl</td>\n",
       "      <td>AllPub</td>\n",
       "      <td>...</td>\n",
       "      <td>NaN</td>\n",
       "      <td>NaN</td>\n",
       "      <td>NaN</td>\n",
       "      <td>0</td>\n",
       "      <td>5</td>\n",
       "      <td>2007</td>\n",
       "      <td>WD</td>\n",
       "      <td>Normal</td>\n",
       "      <td>181500</td>\n",
       "      <td>2984</td>\n",
       "    </tr>\n",
       "    <tr>\n",
       "      <th>2</th>\n",
       "      <td>3</td>\n",
       "      <td>60</td>\n",
       "      <td>RL</td>\n",
       "      <td>68.0</td>\n",
       "      <td>11250</td>\n",
       "      <td>Pave</td>\n",
       "      <td>NaN</td>\n",
       "      <td>IR1</td>\n",
       "      <td>Lvl</td>\n",
       "      <td>AllPub</td>\n",
       "      <td>...</td>\n",
       "      <td>NaN</td>\n",
       "      <td>NaN</td>\n",
       "      <td>NaN</td>\n",
       "      <td>0</td>\n",
       "      <td>9</td>\n",
       "      <td>2008</td>\n",
       "      <td>WD</td>\n",
       "      <td>Normal</td>\n",
       "      <td>223500</td>\n",
       "      <td>3314</td>\n",
       "    </tr>\n",
       "    <tr>\n",
       "      <th>3</th>\n",
       "      <td>4</td>\n",
       "      <td>70</td>\n",
       "      <td>RL</td>\n",
       "      <td>60.0</td>\n",
       "      <td>9550</td>\n",
       "      <td>Pave</td>\n",
       "      <td>NaN</td>\n",
       "      <td>IR1</td>\n",
       "      <td>Lvl</td>\n",
       "      <td>AllPub</td>\n",
       "      <td>...</td>\n",
       "      <td>NaN</td>\n",
       "      <td>NaN</td>\n",
       "      <td>NaN</td>\n",
       "      <td>0</td>\n",
       "      <td>2</td>\n",
       "      <td>2006</td>\n",
       "      <td>WD</td>\n",
       "      <td>Abnorml</td>\n",
       "      <td>140000</td>\n",
       "      <td>3115</td>\n",
       "    </tr>\n",
       "    <tr>\n",
       "      <th>4</th>\n",
       "      <td>5</td>\n",
       "      <td>60</td>\n",
       "      <td>RL</td>\n",
       "      <td>84.0</td>\n",
       "      <td>14260</td>\n",
       "      <td>Pave</td>\n",
       "      <td>NaN</td>\n",
       "      <td>IR1</td>\n",
       "      <td>Lvl</td>\n",
       "      <td>AllPub</td>\n",
       "      <td>...</td>\n",
       "      <td>NaN</td>\n",
       "      <td>NaN</td>\n",
       "      <td>NaN</td>\n",
       "      <td>0</td>\n",
       "      <td>12</td>\n",
       "      <td>2008</td>\n",
       "      <td>WD</td>\n",
       "      <td>Normal</td>\n",
       "      <td>250000</td>\n",
       "      <td>4179</td>\n",
       "    </tr>\n",
       "  </tbody>\n",
       "</table>\n",
       "<p>5 rows × 82 columns</p>\n",
       "</div>"
      ],
      "text/plain": [
       "   Id  MSSubClass MSZoning  LotFrontage  LotArea Street Alley LotShape  \\\n",
       "0   1          60       RL         65.0     8450   Pave   NaN      Reg   \n",
       "1   2          20       RL         80.0     9600   Pave   NaN      Reg   \n",
       "2   3          60       RL         68.0    11250   Pave   NaN      IR1   \n",
       "3   4          70       RL         60.0     9550   Pave   NaN      IR1   \n",
       "4   5          60       RL         84.0    14260   Pave   NaN      IR1   \n",
       "\n",
       "  LandContour Utilities     ...     PoolQC Fence MiscFeature MiscVal MoSold  \\\n",
       "0         Lvl    AllPub     ...        NaN   NaN         NaN       0      2   \n",
       "1         Lvl    AllPub     ...        NaN   NaN         NaN       0      5   \n",
       "2         Lvl    AllPub     ...        NaN   NaN         NaN       0      9   \n",
       "3         Lvl    AllPub     ...        NaN   NaN         NaN       0      2   \n",
       "4         Lvl    AllPub     ...        NaN   NaN         NaN       0     12   \n",
       "\n",
       "  YrSold SaleType  SaleCondition  SalePrice  total_sqft  \n",
       "0   2008       WD         Normal     208500        3114  \n",
       "1   2007       WD         Normal     181500        2984  \n",
       "2   2008       WD         Normal     223500        3314  \n",
       "3   2006       WD        Abnorml     140000        3115  \n",
       "4   2008       WD         Normal     250000        4179  \n",
       "\n",
       "[5 rows x 82 columns]"
      ]
     },
     "execution_count": 275,
     "metadata": {},
     "output_type": "execute_result"
    }
   ],
   "source": [
    "df.head()"
   ]
  },
  {
   "cell_type": "code",
   "execution_count": 276,
   "metadata": {},
   "outputs": [
    {
     "data": {
      "text/html": [
       "<div>\n",
       "<style>\n",
       "    .dataframe thead tr:only-child th {\n",
       "        text-align: right;\n",
       "    }\n",
       "\n",
       "    .dataframe thead th {\n",
       "        text-align: left;\n",
       "    }\n",
       "\n",
       "    .dataframe tbody tr th {\n",
       "        vertical-align: top;\n",
       "    }\n",
       "</style>\n",
       "<table border=\"1\" class=\"dataframe\">\n",
       "  <thead>\n",
       "    <tr style=\"text-align: right;\">\n",
       "      <th></th>\n",
       "      <th>count</th>\n",
       "      <th>mean</th>\n",
       "      <th>std</th>\n",
       "      <th>min</th>\n",
       "      <th>25%</th>\n",
       "      <th>50%</th>\n",
       "      <th>75%</th>\n",
       "      <th>max</th>\n",
       "    </tr>\n",
       "  </thead>\n",
       "  <tbody>\n",
       "    <tr>\n",
       "      <th>SalePrice</th>\n",
       "      <td>1450.0</td>\n",
       "      <td>181654.942069</td>\n",
       "      <td>79176.485241</td>\n",
       "      <td>37900.0</td>\n",
       "      <td>130000.00</td>\n",
       "      <td>163945.0</td>\n",
       "      <td>214000.00</td>\n",
       "      <td>755000.0</td>\n",
       "    </tr>\n",
       "    <tr>\n",
       "      <th>YrSold</th>\n",
       "      <td>1450.0</td>\n",
       "      <td>2007.812414</td>\n",
       "      <td>1.326321</td>\n",
       "      <td>2006.0</td>\n",
       "      <td>2007.00</td>\n",
       "      <td>2008.0</td>\n",
       "      <td>2009.00</td>\n",
       "      <td>2010.0</td>\n",
       "    </tr>\n",
       "    <tr>\n",
       "      <th>MSSubClass</th>\n",
       "      <td>1450.0</td>\n",
       "      <td>56.903448</td>\n",
       "      <td>42.265033</td>\n",
       "      <td>20.0</td>\n",
       "      <td>20.00</td>\n",
       "      <td>50.0</td>\n",
       "      <td>70.00</td>\n",
       "      <td>190.0</td>\n",
       "    </tr>\n",
       "    <tr>\n",
       "      <th>total_sqft</th>\n",
       "      <td>1450.0</td>\n",
       "      <td>3050.385517</td>\n",
       "      <td>959.362454</td>\n",
       "      <td>334.0</td>\n",
       "      <td>2399.25</td>\n",
       "      <td>2942.5</td>\n",
       "      <td>3584.75</td>\n",
       "      <td>13170.0</td>\n",
       "    </tr>\n",
       "  </tbody>\n",
       "</table>\n",
       "</div>"
      ],
      "text/plain": [
       "             count           mean           std      min        25%       50%  \\\n",
       "SalePrice   1450.0  181654.942069  79176.485241  37900.0  130000.00  163945.0   \n",
       "YrSold      1450.0    2007.812414      1.326321   2006.0    2007.00    2008.0   \n",
       "MSSubClass  1450.0      56.903448     42.265033     20.0      20.00      50.0   \n",
       "total_sqft  1450.0    3050.385517    959.362454    334.0    2399.25    2942.5   \n",
       "\n",
       "                  75%       max  \n",
       "SalePrice   214000.00  755000.0  \n",
       "YrSold        2009.00    2010.0  \n",
       "MSSubClass      70.00     190.0  \n",
       "total_sqft    3584.75   13170.0  "
      ]
     },
     "execution_count": 276,
     "metadata": {},
     "output_type": "execute_result"
    }
   ],
   "source": [
    "# Subsetting data based on features needed\n",
    "\n",
    "data = df[['SalePrice', 'YrSold','MSSubClass', 'Street', 'Utilities', 'Neighborhood', 'BldgType', 'HouseStyle', 'MasVnrType','total_sqft']]\n",
    "data.head()\n",
    "data.describe().T"
   ]
  },
  {
   "cell_type": "code",
   "execution_count": 277,
   "metadata": {},
   "outputs": [
    {
     "data": {
      "text/plain": [
       "(1450, 82)"
      ]
     },
     "execution_count": 277,
     "metadata": {},
     "output_type": "execute_result"
    }
   ],
   "source": [
    "df.shape"
   ]
  },
  {
   "cell_type": "code",
   "execution_count": 278,
   "metadata": {},
   "outputs": [
    {
     "data": {
      "image/png": "[encoded data removed]",
      "text/plain": [
       "<matplotlib.figure.Figure at 0x115bae7d0>"
      ]
     },
     "metadata": {
      "image/png": {
       "height": 410,
       "width": 398
      }
     },
     "output_type": "display_data"
    }
   ],
   "source": [
    "# Checking for outliers\n",
    "# Some in the total sq_ft column but it makes sense as the home is valued appropriately\n",
    "\n",
    "fig, my_ax = plt.subplots(figsize=(6, 6))\n",
    "sns.boxplot(data=data[['MSSubClass', 'total_sqft']], ax = my_ax)\n",
    "_ = my_ax.set_xticklabels(my_ax.get_xticklabels(),rotation=45)\n",
    "plt.title(\"Numerical Box Plot\");\n",
    "plt.ylabel('Value');"
   ]
  },
  {
   "cell_type": "code",
   "execution_count": 279,
   "metadata": {},
   "outputs": [
    {
     "data": {
      "image/png": "[encoded data removed]",
      "text/plain": [
       "<matplotlib.figure.Figure at 0x11594ffd0>"
      ]
     },
     "metadata": {
      "image/png": {
       "height": 578,
       "width": 553
      }
     },
     "output_type": "display_data"
    }
   ],
   "source": [
    "# Heatmap showing correlation between numeric date points\n",
    "\n",
    "plt.figure(figsize=(10, 10))\n",
    "sns.heatmap(data.corr()**2)\n",
    "plt.show()"
   ]
  },
  {
   "cell_type": "code",
   "execution_count": 280,
   "metadata": {
    "collapsed": true
   },
   "outputs": [],
   "source": [
    "# dummifying features that need to be dummified\n",
    "\n",
    "dummy_ranks = pd.get_dummies(data[['Street', 'Neighborhood']])\n",
    "dummy_m =  pd.get_dummies(data['MSSubClass'], prefix='MSSub', prefix_sep='_')\n"
   ]
  },
  {
   "cell_type": "code",
   "execution_count": 281,
   "metadata": {},
   "outputs": [
    {
     "data": {
      "text/plain": [
       "Index([u'Street_Grvl', u'Street_Pave', u'Neighborhood_Blmngtn',\n",
       "       u'Neighborhood_Blueste', u'Neighborhood_BrDale',\n",
       "       u'Neighborhood_BrkSide', u'Neighborhood_ClearCr',\n",
       "       u'Neighborhood_CollgCr', u'Neighborhood_Crawfor',\n",
       "       u'Neighborhood_Edwards', u'Neighborhood_Gilbert',\n",
       "       u'Neighborhood_IDOTRR', u'Neighborhood_MeadowV',\n",
       "       u'Neighborhood_Mitchel', u'Neighborhood_NAmes', u'Neighborhood_NPkVill',\n",
       "       u'Neighborhood_NWAmes', u'Neighborhood_NoRidge',\n",
       "       u'Neighborhood_NridgHt', u'Neighborhood_OldTown', u'Neighborhood_SWISU',\n",
       "       u'Neighborhood_Sawyer', u'Neighborhood_SawyerW',\n",
       "       u'Neighborhood_Somerst', u'Neighborhood_StoneBr',\n",
       "       u'Neighborhood_Timber', u'Neighborhood_Veenker'],\n",
       "      dtype='object')"
      ]
     },
     "execution_count": 281,
     "metadata": {},
     "output_type": "execute_result"
    }
   ],
   "source": [
    "dummy_ranks.columns"
   ]
  },
  {
   "cell_type": "code",
   "execution_count": 282,
   "metadata": {
    "collapsed": true
   },
   "outputs": [],
   "source": [
    "# Subsetting data dataframe based on features that would be used, joining dummy variables and dropping a column in each\n",
    "\n",
    "train_data = data[['SalePrice', 'YrSold', 'total_sqft']].join(dummy_ranks).join(dummy_m).drop(['Street_Pave', 'Neighborhood_Veenker', 'MSSub_190'], axis=1)\n"
   ]
  },
  {
   "cell_type": "code",
   "execution_count": 283,
   "metadata": {},
   "outputs": [],
   "source": [
    "# dropping na\n",
    "\n",
    "train_data.dropna(inplace=True)"
   ]
  },
  {
   "cell_type": "code",
   "execution_count": 284,
   "metadata": {},
   "outputs": [
    {
     "data": {
      "text/plain": [
       "(1450, 42)"
      ]
     },
     "execution_count": 284,
     "metadata": {},
     "output_type": "execute_result"
    }
   ],
   "source": [
    "train_data.shape"
   ]
  },
  {
   "cell_type": "code",
   "execution_count": 285,
   "metadata": {
    "scrolled": true
   },
   "outputs": [
    {
     "data": {
      "text/plain": [
       "SalePrice               0\n",
       "YrSold                  0\n",
       "total_sqft              0\n",
       "Street_Grvl             0\n",
       "Neighborhood_Blmngtn    0\n",
       "Neighborhood_Blueste    0\n",
       "Neighborhood_BrDale     0\n",
       "Neighborhood_BrkSide    0\n",
       "Neighborhood_ClearCr    0\n",
       "Neighborhood_CollgCr    0\n",
       "Neighborhood_Crawfor    0\n",
       "Neighborhood_Edwards    0\n",
       "Neighborhood_Gilbert    0\n",
       "Neighborhood_IDOTRR     0\n",
       "Neighborhood_MeadowV    0\n",
       "Neighborhood_Mitchel    0\n",
       "Neighborhood_NAmes      0\n",
       "Neighborhood_NPkVill    0\n",
       "Neighborhood_NWAmes     0\n",
       "Neighborhood_NoRidge    0\n",
       "Neighborhood_NridgHt    0\n",
       "Neighborhood_OldTown    0\n",
       "Neighborhood_SWISU      0\n",
       "Neighborhood_Sawyer     0\n",
       "Neighborhood_SawyerW    0\n",
       "Neighborhood_Somerst    0\n",
       "Neighborhood_StoneBr    0\n",
       "Neighborhood_Timber     0\n",
       "MSSub_20                0\n",
       "MSSub_30                0\n",
       "MSSub_40                0\n",
       "MSSub_45                0\n",
       "MSSub_50                0\n",
       "MSSub_60                0\n",
       "MSSub_70                0\n",
       "MSSub_75                0\n",
       "MSSub_80                0\n",
       "MSSub_85                0\n",
       "MSSub_90                0\n",
       "MSSub_120               0\n",
       "MSSub_160               0\n",
       "MSSub_180               0\n",
       "dtype: int64"
      ]
     },
     "execution_count": 285,
     "metadata": {},
     "output_type": "execute_result"
    }
   ],
   "source": [
    "# Creating test data, using home sold in 2010\n",
    "\n",
    "test_data = train_data[train_data['YrSold'] == 2010]\n",
    "test_X = test_data[test_data.columns[2:]]\n",
    "test_y = test_data['SalePrice']\n",
    "test_data.isnull().sum()\n"
   ]
  },
  {
   "cell_type": "code",
   "execution_count": 286,
   "metadata": {
    "collapsed": true
   },
   "outputs": [],
   "source": [
    "# creating training data set\n",
    "\n",
    "o_data = train_data[train_data['YrSold'] < 2010]\n",
    "y = o_data['SalePrice']\n",
    "X = o_data[train_data.columns[2:]]\n"
   ]
  },
  {
   "cell_type": "code",
   "execution_count": 287,
   "metadata": {
    "collapsed": true
   },
   "outputs": [],
   "source": [
    "from sklearn.model_selection import KFold"
   ]
  },
  {
   "cell_type": "code",
   "execution_count": 288,
   "metadata": {
    "collapsed": true
   },
   "outputs": [],
   "source": [
    "cv = KFold(n_splits=10, shuffle=True, random_state=20)"
   ]
  },
  {
   "cell_type": "code",
   "execution_count": 289,
   "metadata": {},
   "outputs": [
    {
     "data": {
      "text/plain": [
       "0.7670881457403288"
      ]
     },
     "execution_count": 289,
     "metadata": {},
     "output_type": "execute_result"
    }
   ],
   "source": [
    "# Standardizing feature values (numeric and dummy variables) and training a linear regression model\n",
    "# with the training data\n",
    "\n",
    "ss = StandardScaler()\n",
    "ss.fit(X)\n",
    "Xs = ss.transform(X)\n",
    "\n",
    "linreg = LinearRegression()\n",
    "linreg.fit(Xs, y)\n",
    "\n",
    "cross_val_score(linreg, Xs, y, cv=cv).mean()"
   ]
  },
  {
   "cell_type": "code",
   "execution_count": 290,
   "metadata": {
    "collapsed": true
   },
   "outputs": [],
   "source": [
    "# Defining ridge parameters\n",
    "\n",
    "from sklearn.model_selection import GridSearchCV\n",
    "ridge_params = {\n",
    "    'alpha' : np.logspace(-5, 5, 20)\n",
    "}"
   ]
  },
  {
   "cell_type": "code",
   "execution_count": 291,
   "metadata": {},
   "outputs": [
    {
     "name": "stdout",
     "output_type": "stream",
     "text": [
      "Fitting 10 folds for each of 20 candidates, totalling 200 fits\n"
     ]
    },
    {
     "name": "stderr",
     "output_type": "stream",
     "text": [
      "[Parallel(n_jobs=1)]: Done 200 out of 200 | elapsed:    1.0s finished\n"
     ]
    }
   ],
   "source": [
    "# Running a grid search using ridge parameters above on a linear regression with ridge regularization\n",
    "\n",
    "ridge_gridsearch = GridSearchCV(Ridge(), ridge_params, verbose=1, cv=10)\n",
    "\n",
    "ridge_gridsearch.fit(Xs, y)\n",
    "best_ridge = ridge_gridsearch.best_estimator_"
   ]
  },
  {
   "cell_type": "code",
   "execution_count": 292,
   "metadata": {},
   "outputs": [
    {
     "data": {
      "text/plain": [
       "0.76685653479484828"
      ]
     },
     "execution_count": 292,
     "metadata": {},
     "output_type": "execute_result"
    }
   ],
   "source": [
    "ridge_gridsearch.best_score_"
   ]
  },
  {
   "cell_type": "code",
   "execution_count": 293,
   "metadata": {},
   "outputs": [
    {
     "data": {
      "text/plain": [
       "{'alpha': 69.519279617756055}"
      ]
     },
     "execution_count": 293,
     "metadata": {},
     "output_type": "execute_result"
    }
   ],
   "source": [
    "ridge_gridsearch.best_params_"
   ]
  },
  {
   "cell_type": "code",
   "execution_count": 294,
   "metadata": {
    "collapsed": true
   },
   "outputs": [],
   "source": [
    "# Defining lasso parameters and running a grid search using defined lasso parameters on a linear regression \n",
    "# with lasso regularization\n",
    "\n",
    "lasso_params = {\n",
    "    'alpha' : np.logspace(-5, 5, 20)\n",
    "}\n",
    "\n",
    "lasso_gridsearch = GridSearchCV(Lasso(), lasso_params, verbose=1, cv=10)"
   ]
  },
  {
   "cell_type": "code",
   "execution_count": 295,
   "metadata": {},
   "outputs": [
    {
     "name": "stdout",
     "output_type": "stream",
     "text": [
      "Fitting 10 folds for each of 20 candidates, totalling 200 fits\n"
     ]
    },
    {
     "name": "stderr",
     "output_type": "stream",
     "text": [
      "[Parallel(n_jobs=1)]: Done 200 out of 200 | elapsed:    5.7s finished\n"
     ]
    }
   ],
   "source": [
    "lasso_gridsearch.fit(Xs, y)\n",
    "best_lasso = lasso_gridsearch.best_estimator_"
   ]
  },
  {
   "cell_type": "code",
   "execution_count": 296,
   "metadata": {},
   "outputs": [
    {
     "data": {
      "text/plain": [
       "0.76627381177555798"
      ]
     },
     "execution_count": 296,
     "metadata": {},
     "output_type": "execute_result"
    }
   ],
   "source": [
    "lasso_gridsearch.best_score_"
   ]
  },
  {
   "cell_type": "code",
   "execution_count": 297,
   "metadata": {},
   "outputs": [
    {
     "data": {
      "text/plain": [
       "{'alpha': 20.691380811147901}"
      ]
     },
     "execution_count": 297,
     "metadata": {},
     "output_type": "execute_result"
    }
   ],
   "source": [
    "lasso_gridsearch.best_params_"
   ]
  },
  {
   "cell_type": "code",
   "execution_count": 299,
   "metadata": {},
   "outputs": [],
   "source": [
    "# Running a grid search using defined elastic parameters on a linear regression\n",
    "\n",
    "elastic_params = {\n",
    "    'alpha' : np.logspace(-5, 5, 20),\n",
    "    'l1_ratio' : [0.1, 0.2, 0.5, 0.6, 0.8, 0.9]\n",
    "}\n",
    "\n",
    "elastic_gridsearch = GridSearchCV(ElasticNet(), elastic_params, verbose=1, cv=10)"
   ]
  },
  {
   "cell_type": "code",
   "execution_count": 300,
   "metadata": {},
   "outputs": [
    {
     "name": "stdout",
     "output_type": "stream",
     "text": [
      "Fitting 10 folds for each of 120 candidates, totalling 1200 fits\n"
     ]
    },
    {
     "name": "stderr",
     "output_type": "stream",
     "text": [
      "[Parallel(n_jobs=1)]: Done 1200 out of 1200 | elapsed:   26.0s finished\n"
     ]
    }
   ],
   "source": [
    "elastic_gridsearch.fit(Xs, y)\n",
    "best_elastic = elastic_gridsearch.best_estimator_"
   ]
  },
  {
   "cell_type": "code",
   "execution_count": 301,
   "metadata": {},
   "outputs": [
    {
     "name": "stdout",
     "output_type": "stream",
     "text": [
      "linear regression best train score is  0.76708814574\n",
      "lasso best train score is  0.766273811776\n",
      "ridge best train score is  0.766856534795\n",
      "elastic best train score is  0.766911217485\n"
     ]
    }
   ],
   "source": [
    "print \"linear regression best train score is \", cross_val_score(linreg, Xs, y, cv=cv).mean()\n",
    "print \"lasso best train score is \", lasso_gridsearch.best_score_\n",
    "print \"ridge best train score is \", ridge_gridsearch.best_score_\n",
    "print \"elastic best train score is \", elastic_gridsearch.best_score_"
   ]
  },
  {
   "cell_type": "code",
   "execution_count": 302,
   "metadata": {},
   "outputs": [
    {
     "data": {
      "text/plain": [
       "{'alpha': 0.048329302385717518, 'l1_ratio': 0.1}"
      ]
     },
     "execution_count": 302,
     "metadata": {},
     "output_type": "execute_result"
    }
   ],
   "source": [
    "# predicts ridge model to be the best\n",
    "\n",
    "elastic_gridsearch.best_params_"
   ]
  },
  {
   "cell_type": "code",
   "execution_count": 303,
   "metadata": {},
   "outputs": [
    {
     "data": {
      "text/plain": [
       "0.81679270232572909"
      ]
     },
     "execution_count": 303,
     "metadata": {},
     "output_type": "execute_result"
    }
   ],
   "source": [
    "# standardizing test features and scoring lasso model on test features\n",
    "\n",
    "t_Xs = ss.transform(test_X)\n",
    "\n",
    "best_lasso.score(t_Xs, test_y)"
   ]
  },
  {
   "cell_type": "code",
   "execution_count": 304,
   "metadata": {},
   "outputs": [
    {
     "data": {
      "text/plain": [
       "0.80948963524385054"
      ]
     },
     "execution_count": 304,
     "metadata": {},
     "output_type": "execute_result"
    }
   ],
   "source": [
    "# scoring ridge model on test features\n",
    "\n",
    "best_ridge.score(t_Xs, test_y)"
   ]
  },
  {
   "cell_type": "code",
   "execution_count": 305,
   "metadata": {},
   "outputs": [
    {
     "data": {
      "text/plain": [
       "0.81680850401238758"
      ]
     },
     "execution_count": 305,
     "metadata": {},
     "output_type": "execute_result"
    }
   ],
   "source": [
    "# scoring linear regression on test features\n",
    "\n",
    "linreg.score(t_Xs, test_y)"
   ]
  },
  {
   "cell_type": "markdown",
   "metadata": {},
   "source": [
    "Linear regression model performs the best but not significantly different from the lasso and not too different from the ridge.  The lasso will be suggested based on consistency and performance on different iterations of models built"
   ]
  },
  {
   "cell_type": "code",
   "execution_count": 306,
   "metadata": {},
   "outputs": [
    {
     "data": {
      "text/html": [
       "<div>\n",
       "<style>\n",
       "    .dataframe thead tr:only-child th {\n",
       "        text-align: right;\n",
       "    }\n",
       "\n",
       "    .dataframe thead th {\n",
       "        text-align: left;\n",
       "    }\n",
       "\n",
       "    .dataframe tbody tr th {\n",
       "        vertical-align: top;\n",
       "    }\n",
       "</style>\n",
       "<table border=\"1\" class=\"dataframe\">\n",
       "  <thead>\n",
       "    <tr style=\"text-align: right;\">\n",
       "      <th></th>\n",
       "      <th>abs_coef</th>\n",
       "      <th>coef</th>\n",
       "      <th>variable</th>\n",
       "    </tr>\n",
       "  </thead>\n",
       "  <tbody>\n",
       "    <tr>\n",
       "      <th>0</th>\n",
       "      <td>43396.872662</td>\n",
       "      <td>43396.872662</td>\n",
       "      <td>total_sqft</td>\n",
       "    </tr>\n",
       "    <tr>\n",
       "      <th>14</th>\n",
       "      <td>23434.041376</td>\n",
       "      <td>-23434.041376</td>\n",
       "      <td>Neighborhood_NAmes</td>\n",
       "    </tr>\n",
       "    <tr>\n",
       "      <th>19</th>\n",
       "      <td>19348.171011</td>\n",
       "      <td>-19348.171011</td>\n",
       "      <td>Neighborhood_OldTown</td>\n",
       "    </tr>\n",
       "    <tr>\n",
       "      <th>9</th>\n",
       "      <td>17411.876619</td>\n",
       "      <td>-17411.876619</td>\n",
       "      <td>Neighborhood_Edwards</td>\n",
       "    </tr>\n",
       "    <tr>\n",
       "      <th>21</th>\n",
       "      <td>13747.777763</td>\n",
       "      <td>-13747.777763</td>\n",
       "      <td>Neighborhood_Sawyer</td>\n",
       "    </tr>\n",
       "  </tbody>\n",
       "</table>\n",
       "</div>"
      ],
      "text/plain": [
       "        abs_coef          coef              variable\n",
       "0   43396.872662  43396.872662            total_sqft\n",
       "14  23434.041376 -23434.041376    Neighborhood_NAmes\n",
       "19  19348.171011 -19348.171011  Neighborhood_OldTown\n",
       "9   17411.876619 -17411.876619  Neighborhood_Edwards\n",
       "21  13747.777763 -13747.777763   Neighborhood_Sawyer"
      ]
     },
     "execution_count": 306,
     "metadata": {},
     "output_type": "execute_result"
    }
   ],
   "source": [
    "# linear regression coefficients\n",
    "\n",
    "linreg_coef = pd.DataFrame({'variable': X.columns, 'coef': linreg.coef_, \\\n",
    "                           'abs_coef': np.abs(linreg.coef_)})\n",
    "linreg_coef.sort_values('abs_coef', ascending=False).head(5)"
   ]
  },
  {
   "cell_type": "code",
   "execution_count": 307,
   "metadata": {},
   "outputs": [
    {
     "data": {
      "text/html": [
       "<div>\n",
       "<style>\n",
       "    .dataframe thead tr:only-child th {\n",
       "        text-align: right;\n",
       "    }\n",
       "\n",
       "    .dataframe thead th {\n",
       "        text-align: left;\n",
       "    }\n",
       "\n",
       "    .dataframe tbody tr th {\n",
       "        vertical-align: top;\n",
       "    }\n",
       "</style>\n",
       "<table border=\"1\" class=\"dataframe\">\n",
       "  <thead>\n",
       "    <tr style=\"text-align: right;\">\n",
       "      <th></th>\n",
       "      <th>abs_coef</th>\n",
       "      <th>coef</th>\n",
       "      <th>variable</th>\n",
       "    </tr>\n",
       "  </thead>\n",
       "  <tbody>\n",
       "    <tr>\n",
       "      <th>0</th>\n",
       "      <td>41299.488081</td>\n",
       "      <td>41299.488081</td>\n",
       "      <td>total_sqft</td>\n",
       "    </tr>\n",
       "    <tr>\n",
       "      <th>18</th>\n",
       "      <td>15849.704567</td>\n",
       "      <td>15849.704567</td>\n",
       "      <td>Neighborhood_NridgHt</td>\n",
       "    </tr>\n",
       "    <tr>\n",
       "      <th>14</th>\n",
       "      <td>10574.450763</td>\n",
       "      <td>-10574.450763</td>\n",
       "      <td>Neighborhood_NAmes</td>\n",
       "    </tr>\n",
       "    <tr>\n",
       "      <th>17</th>\n",
       "      <td>10532.074797</td>\n",
       "      <td>10532.074797</td>\n",
       "      <td>Neighborhood_NoRidge</td>\n",
       "    </tr>\n",
       "    <tr>\n",
       "      <th>24</th>\n",
       "      <td>9950.119078</td>\n",
       "      <td>9950.119078</td>\n",
       "      <td>Neighborhood_StoneBr</td>\n",
       "    </tr>\n",
       "  </tbody>\n",
       "</table>\n",
       "</div>"
      ],
      "text/plain": [
       "        abs_coef          coef              variable\n",
       "0   41299.488081  41299.488081            total_sqft\n",
       "18  15849.704567  15849.704567  Neighborhood_NridgHt\n",
       "14  10574.450763 -10574.450763    Neighborhood_NAmes\n",
       "17  10532.074797  10532.074797  Neighborhood_NoRidge\n",
       "24   9950.119078   9950.119078  Neighborhood_StoneBr"
      ]
     },
     "execution_count": 307,
     "metadata": {},
     "output_type": "execute_result"
    }
   ],
   "source": [
    "# ridge coefficient\n",
    "\n",
    "ridge_coef = pd.DataFrame({'variable': X.columns, 'coef': best_ridge.coef_, \\\n",
    "                           'abs_coef': np.abs(best_ridge.coef_)})\n",
    "ridge_coef.sort_values('abs_coef', ascending=False).head(5)"
   ]
  },
  {
   "cell_type": "code",
   "execution_count": 308,
   "metadata": {
    "scrolled": true
   },
   "outputs": [
    {
     "data": {
      "text/html": [
       "<div>\n",
       "<style>\n",
       "    .dataframe thead tr:only-child th {\n",
       "        text-align: right;\n",
       "    }\n",
       "\n",
       "    .dataframe thead th {\n",
       "        text-align: left;\n",
       "    }\n",
       "\n",
       "    .dataframe tbody tr th {\n",
       "        vertical-align: top;\n",
       "    }\n",
       "</style>\n",
       "<table border=\"1\" class=\"dataframe\">\n",
       "  <thead>\n",
       "    <tr style=\"text-align: right;\">\n",
       "      <th></th>\n",
       "      <th>abs_coef</th>\n",
       "      <th>coef</th>\n",
       "      <th>variable</th>\n",
       "    </tr>\n",
       "  </thead>\n",
       "  <tbody>\n",
       "    <tr>\n",
       "      <th>0</th>\n",
       "      <td>43471.280395</td>\n",
       "      <td>43471.280395</td>\n",
       "      <td>total_sqft</td>\n",
       "    </tr>\n",
       "    <tr>\n",
       "      <th>14</th>\n",
       "      <td>20511.106983</td>\n",
       "      <td>-20511.106983</td>\n",
       "      <td>Neighborhood_NAmes</td>\n",
       "    </tr>\n",
       "    <tr>\n",
       "      <th>19</th>\n",
       "      <td>17145.178510</td>\n",
       "      <td>-17145.178510</td>\n",
       "      <td>Neighborhood_OldTown</td>\n",
       "    </tr>\n",
       "    <tr>\n",
       "      <th>9</th>\n",
       "      <td>15309.875530</td>\n",
       "      <td>-15309.875530</td>\n",
       "      <td>Neighborhood_Edwards</td>\n",
       "    </tr>\n",
       "    <tr>\n",
       "      <th>21</th>\n",
       "      <td>12032.539316</td>\n",
       "      <td>-12032.539316</td>\n",
       "      <td>Neighborhood_Sawyer</td>\n",
       "    </tr>\n",
       "    <tr>\n",
       "      <th>31</th>\n",
       "      <td>11489.032430</td>\n",
       "      <td>11489.032430</td>\n",
       "      <td>MSSub_60</td>\n",
       "    </tr>\n",
       "    <tr>\n",
       "      <th>16</th>\n",
       "      <td>11001.158264</td>\n",
       "      <td>-11001.158264</td>\n",
       "      <td>Neighborhood_NWAmes</td>\n",
       "    </tr>\n",
       "    <tr>\n",
       "      <th>18</th>\n",
       "      <td>10151.222688</td>\n",
       "      <td>10151.222688</td>\n",
       "      <td>Neighborhood_NridgHt</td>\n",
       "    </tr>\n",
       "    <tr>\n",
       "      <th>5</th>\n",
       "      <td>9753.097777</td>\n",
       "      <td>-9753.097777</td>\n",
       "      <td>Neighborhood_BrkSide</td>\n",
       "    </tr>\n",
       "    <tr>\n",
       "      <th>7</th>\n",
       "      <td>9256.263868</td>\n",
       "      <td>-9256.263868</td>\n",
       "      <td>Neighborhood_CollgCr</td>\n",
       "    </tr>\n",
       "    <tr>\n",
       "      <th>13</th>\n",
       "      <td>8881.545090</td>\n",
       "      <td>-8881.545090</td>\n",
       "      <td>Neighborhood_Mitchel</td>\n",
       "    </tr>\n",
       "    <tr>\n",
       "      <th>11</th>\n",
       "      <td>8186.874222</td>\n",
       "      <td>-8186.874222</td>\n",
       "      <td>Neighborhood_IDOTRR</td>\n",
       "    </tr>\n",
       "    <tr>\n",
       "      <th>20</th>\n",
       "      <td>8007.397616</td>\n",
       "      <td>-8007.397616</td>\n",
       "      <td>Neighborhood_SWISU</td>\n",
       "    </tr>\n",
       "    <tr>\n",
       "      <th>10</th>\n",
       "      <td>7302.720626</td>\n",
       "      <td>-7302.720626</td>\n",
       "      <td>Neighborhood_Gilbert</td>\n",
       "    </tr>\n",
       "    <tr>\n",
       "      <th>24</th>\n",
       "      <td>7049.158250</td>\n",
       "      <td>7049.158250</td>\n",
       "      <td>Neighborhood_StoneBr</td>\n",
       "    </tr>\n",
       "    <tr>\n",
       "      <th>26</th>\n",
       "      <td>6860.427782</td>\n",
       "      <td>6860.427782</td>\n",
       "      <td>MSSub_20</td>\n",
       "    </tr>\n",
       "    <tr>\n",
       "      <th>22</th>\n",
       "      <td>6231.304599</td>\n",
       "      <td>-6231.304599</td>\n",
       "      <td>Neighborhood_SawyerW</td>\n",
       "    </tr>\n",
       "    <tr>\n",
       "      <th>17</th>\n",
       "      <td>6185.400188</td>\n",
       "      <td>6185.400188</td>\n",
       "      <td>Neighborhood_NoRidge</td>\n",
       "    </tr>\n",
       "    <tr>\n",
       "      <th>12</th>\n",
       "      <td>5690.819352</td>\n",
       "      <td>-5690.819352</td>\n",
       "      <td>Neighborhood_MeadowV</td>\n",
       "    </tr>\n",
       "    <tr>\n",
       "      <th>34</th>\n",
       "      <td>4651.760720</td>\n",
       "      <td>4651.760720</td>\n",
       "      <td>MSSub_80</td>\n",
       "    </tr>\n",
       "    <tr>\n",
       "      <th>6</th>\n",
       "      <td>4128.613320</td>\n",
       "      <td>-4128.613320</td>\n",
       "      <td>Neighborhood_ClearCr</td>\n",
       "    </tr>\n",
       "    <tr>\n",
       "      <th>38</th>\n",
       "      <td>3683.569573</td>\n",
       "      <td>-3683.569573</td>\n",
       "      <td>MSSub_160</td>\n",
       "    </tr>\n",
       "    <tr>\n",
       "      <th>4</th>\n",
       "      <td>3502.956783</td>\n",
       "      <td>-3502.956783</td>\n",
       "      <td>Neighborhood_BrDale</td>\n",
       "    </tr>\n",
       "    <tr>\n",
       "      <th>35</th>\n",
       "      <td>2610.318486</td>\n",
       "      <td>2610.318486</td>\n",
       "      <td>MSSub_85</td>\n",
       "    </tr>\n",
       "    <tr>\n",
       "      <th>32</th>\n",
       "      <td>2533.418318</td>\n",
       "      <td>2533.418318</td>\n",
       "      <td>MSSub_70</td>\n",
       "    </tr>\n",
       "    <tr>\n",
       "      <th>36</th>\n",
       "      <td>2493.286080</td>\n",
       "      <td>-2493.286080</td>\n",
       "      <td>MSSub_90</td>\n",
       "    </tr>\n",
       "    <tr>\n",
       "      <th>33</th>\n",
       "      <td>2407.848319</td>\n",
       "      <td>2407.848319</td>\n",
       "      <td>MSSub_75</td>\n",
       "    </tr>\n",
       "    <tr>\n",
       "      <th>8</th>\n",
       "      <td>2240.225271</td>\n",
       "      <td>-2240.225271</td>\n",
       "      <td>Neighborhood_Crawfor</td>\n",
       "    </tr>\n",
       "    <tr>\n",
       "      <th>30</th>\n",
       "      <td>2061.665123</td>\n",
       "      <td>2061.665123</td>\n",
       "      <td>MSSub_50</td>\n",
       "    </tr>\n",
       "    <tr>\n",
       "      <th>15</th>\n",
       "      <td>1935.186462</td>\n",
       "      <td>-1935.186462</td>\n",
       "      <td>Neighborhood_NPkVill</td>\n",
       "    </tr>\n",
       "    <tr>\n",
       "      <th>39</th>\n",
       "      <td>1726.424521</td>\n",
       "      <td>1726.424521</td>\n",
       "      <td>MSSub_180</td>\n",
       "    </tr>\n",
       "    <tr>\n",
       "      <th>2</th>\n",
       "      <td>1579.690771</td>\n",
       "      <td>-1579.690771</td>\n",
       "      <td>Neighborhood_Blmngtn</td>\n",
       "    </tr>\n",
       "    <tr>\n",
       "      <th>25</th>\n",
       "      <td>1422.052594</td>\n",
       "      <td>-1422.052594</td>\n",
       "      <td>Neighborhood_Timber</td>\n",
       "    </tr>\n",
       "    <tr>\n",
       "      <th>37</th>\n",
       "      <td>1044.663959</td>\n",
       "      <td>-1044.663959</td>\n",
       "      <td>MSSub_120</td>\n",
       "    </tr>\n",
       "    <tr>\n",
       "      <th>3</th>\n",
       "      <td>841.216416</td>\n",
       "      <td>-841.216416</td>\n",
       "      <td>Neighborhood_Blueste</td>\n",
       "    </tr>\n",
       "    <tr>\n",
       "      <th>29</th>\n",
       "      <td>434.622993</td>\n",
       "      <td>434.622993</td>\n",
       "      <td>MSSub_45</td>\n",
       "    </tr>\n",
       "    <tr>\n",
       "      <th>27</th>\n",
       "      <td>376.342821</td>\n",
       "      <td>-376.342821</td>\n",
       "      <td>MSSub_30</td>\n",
       "    </tr>\n",
       "    <tr>\n",
       "      <th>1</th>\n",
       "      <td>237.163076</td>\n",
       "      <td>-237.163076</td>\n",
       "      <td>Street_Grvl</td>\n",
       "    </tr>\n",
       "    <tr>\n",
       "      <th>28</th>\n",
       "      <td>85.083894</td>\n",
       "      <td>85.083894</td>\n",
       "      <td>MSSub_40</td>\n",
       "    </tr>\n",
       "    <tr>\n",
       "      <th>23</th>\n",
       "      <td>0.000000</td>\n",
       "      <td>-0.000000</td>\n",
       "      <td>Neighborhood_Somerst</td>\n",
       "    </tr>\n",
       "  </tbody>\n",
       "</table>\n",
       "</div>"
      ],
      "text/plain": [
       "        abs_coef          coef              variable\n",
       "0   43471.280395  43471.280395            total_sqft\n",
       "14  20511.106983 -20511.106983    Neighborhood_NAmes\n",
       "19  17145.178510 -17145.178510  Neighborhood_OldTown\n",
       "9   15309.875530 -15309.875530  Neighborhood_Edwards\n",
       "21  12032.539316 -12032.539316   Neighborhood_Sawyer\n",
       "31  11489.032430  11489.032430              MSSub_60\n",
       "16  11001.158264 -11001.158264   Neighborhood_NWAmes\n",
       "18  10151.222688  10151.222688  Neighborhood_NridgHt\n",
       "5    9753.097777  -9753.097777  Neighborhood_BrkSide\n",
       "7    9256.263868  -9256.263868  Neighborhood_CollgCr\n",
       "13   8881.545090  -8881.545090  Neighborhood_Mitchel\n",
       "11   8186.874222  -8186.874222   Neighborhood_IDOTRR\n",
       "20   8007.397616  -8007.397616    Neighborhood_SWISU\n",
       "10   7302.720626  -7302.720626  Neighborhood_Gilbert\n",
       "24   7049.158250   7049.158250  Neighborhood_StoneBr\n",
       "26   6860.427782   6860.427782              MSSub_20\n",
       "22   6231.304599  -6231.304599  Neighborhood_SawyerW\n",
       "17   6185.400188   6185.400188  Neighborhood_NoRidge\n",
       "12   5690.819352  -5690.819352  Neighborhood_MeadowV\n",
       "34   4651.760720   4651.760720              MSSub_80\n",
       "6    4128.613320  -4128.613320  Neighborhood_ClearCr\n",
       "38   3683.569573  -3683.569573             MSSub_160\n",
       "4    3502.956783  -3502.956783   Neighborhood_BrDale\n",
       "35   2610.318486   2610.318486              MSSub_85\n",
       "32   2533.418318   2533.418318              MSSub_70\n",
       "36   2493.286080  -2493.286080              MSSub_90\n",
       "33   2407.848319   2407.848319              MSSub_75\n",
       "8    2240.225271  -2240.225271  Neighborhood_Crawfor\n",
       "30   2061.665123   2061.665123              MSSub_50\n",
       "15   1935.186462  -1935.186462  Neighborhood_NPkVill\n",
       "39   1726.424521   1726.424521             MSSub_180\n",
       "2    1579.690771  -1579.690771  Neighborhood_Blmngtn\n",
       "25   1422.052594  -1422.052594   Neighborhood_Timber\n",
       "37   1044.663959  -1044.663959             MSSub_120\n",
       "3     841.216416   -841.216416  Neighborhood_Blueste\n",
       "29    434.622993    434.622993              MSSub_45\n",
       "27    376.342821   -376.342821              MSSub_30\n",
       "1     237.163076   -237.163076           Street_Grvl\n",
       "28     85.083894     85.083894              MSSub_40\n",
       "23      0.000000     -0.000000  Neighborhood_Somerst"
      ]
     },
     "execution_count": 308,
     "metadata": {},
     "output_type": "execute_result"
    }
   ],
   "source": [
    "# lasso coefficients\n",
    "\n",
    "lasso_coef = pd.DataFrame({'variable': X.columns, 'coef': best_lasso.coef_, \\\n",
    "                           'abs_coef': np.abs(best_lasso.coef_)})\n",
    "# lasso_coef.head(50)\n",
    "lasso_coef.sort_values('abs_coef', ascending=False).head(100)"
   ]
  },
  {
   "cell_type": "code",
   "execution_count": 309,
   "metadata": {
    "collapsed": true
   },
   "outputs": [],
   "source": [
    "top_10 = lasso_coef.sort_values('abs_coef', ascending=False).iloc[:10]"
   ]
  },
  {
   "cell_type": "code",
   "execution_count": 310,
   "metadata": {},
   "outputs": [
    {
     "data": {
      "text/html": [
       "<div>\n",
       "<style>\n",
       "    .dataframe thead tr:only-child th {\n",
       "        text-align: right;\n",
       "    }\n",
       "\n",
       "    .dataframe thead th {\n",
       "        text-align: left;\n",
       "    }\n",
       "\n",
       "    .dataframe tbody tr th {\n",
       "        vertical-align: top;\n",
       "    }\n",
       "</style>\n",
       "<table border=\"1\" class=\"dataframe\">\n",
       "  <thead>\n",
       "    <tr style=\"text-align: right;\">\n",
       "      <th></th>\n",
       "      <th>abs_coef</th>\n",
       "      <th>coef</th>\n",
       "      <th>variable</th>\n",
       "    </tr>\n",
       "  </thead>\n",
       "  <tbody>\n",
       "    <tr>\n",
       "      <th>0</th>\n",
       "      <td>43471.280395</td>\n",
       "      <td>43471.280395</td>\n",
       "      <td>total_sqft</td>\n",
       "    </tr>\n",
       "    <tr>\n",
       "      <th>14</th>\n",
       "      <td>20511.106983</td>\n",
       "      <td>-20511.106983</td>\n",
       "      <td>Neighborhood_NAmes</td>\n",
       "    </tr>\n",
       "    <tr>\n",
       "      <th>19</th>\n",
       "      <td>17145.178510</td>\n",
       "      <td>-17145.178510</td>\n",
       "      <td>Neighborhood_OldTown</td>\n",
       "    </tr>\n",
       "    <tr>\n",
       "      <th>9</th>\n",
       "      <td>15309.875530</td>\n",
       "      <td>-15309.875530</td>\n",
       "      <td>Neighborhood_Edwards</td>\n",
       "    </tr>\n",
       "    <tr>\n",
       "      <th>21</th>\n",
       "      <td>12032.539316</td>\n",
       "      <td>-12032.539316</td>\n",
       "      <td>Neighborhood_Sawyer</td>\n",
       "    </tr>\n",
       "    <tr>\n",
       "      <th>31</th>\n",
       "      <td>11489.032430</td>\n",
       "      <td>11489.032430</td>\n",
       "      <td>MSSub_60</td>\n",
       "    </tr>\n",
       "    <tr>\n",
       "      <th>16</th>\n",
       "      <td>11001.158264</td>\n",
       "      <td>-11001.158264</td>\n",
       "      <td>Neighborhood_NWAmes</td>\n",
       "    </tr>\n",
       "    <tr>\n",
       "      <th>18</th>\n",
       "      <td>10151.222688</td>\n",
       "      <td>10151.222688</td>\n",
       "      <td>Neighborhood_NridgHt</td>\n",
       "    </tr>\n",
       "    <tr>\n",
       "      <th>5</th>\n",
       "      <td>9753.097777</td>\n",
       "      <td>-9753.097777</td>\n",
       "      <td>Neighborhood_BrkSide</td>\n",
       "    </tr>\n",
       "    <tr>\n",
       "      <th>7</th>\n",
       "      <td>9256.263868</td>\n",
       "      <td>-9256.263868</td>\n",
       "      <td>Neighborhood_CollgCr</td>\n",
       "    </tr>\n",
       "  </tbody>\n",
       "</table>\n",
       "</div>"
      ],
      "text/plain": [
       "        abs_coef          coef              variable\n",
       "0   43471.280395  43471.280395            total_sqft\n",
       "14  20511.106983 -20511.106983    Neighborhood_NAmes\n",
       "19  17145.178510 -17145.178510  Neighborhood_OldTown\n",
       "9   15309.875530 -15309.875530  Neighborhood_Edwards\n",
       "21  12032.539316 -12032.539316   Neighborhood_Sawyer\n",
       "31  11489.032430  11489.032430              MSSub_60\n",
       "16  11001.158264 -11001.158264   Neighborhood_NWAmes\n",
       "18  10151.222688  10151.222688  Neighborhood_NridgHt\n",
       "5    9753.097777  -9753.097777  Neighborhood_BrkSide\n",
       "7    9256.263868  -9256.263868  Neighborhood_CollgCr"
      ]
     },
     "execution_count": 310,
     "metadata": {},
     "output_type": "execute_result"
    }
   ],
   "source": [
    "top_10"
   ]
  },
  {
   "cell_type": "code",
   "execution_count": 311,
   "metadata": {},
   "outputs": [
    {
     "data": {
      "image/png": "[encoded data removed]",
      "text/plain": [
       "<matplotlib.figure.Figure at 0x11a01a610>"
      ]
     },
     "metadata": {
      "image/png": {
       "height": 519,
       "width": 572
      }
     },
     "output_type": "display_data"
    },
    {
     "data": {
      "text/plain": [
       "<matplotlib.figure.Figure at 0x119654510>"
      ]
     },
     "metadata": {},
     "output_type": "display_data"
    }
   ],
   "source": [
    "## y_pos = np.arange(len(top_10['abs_coef']))\n",
    "fig, ax = plt.subplots(figsize=(10,7))\n",
    "ax.bar(y_pos, top_10['abs_coef'],color=['black'])\n",
    "plt.xticks(y_pos, ['Total Squarefeet', 'North Ames', 'Old Town', \\\n",
    "                   'Edwards', 'Sawyer', '2 story buildings', 'North West Ames', 'North ridge', 'Brk Side', 'College Cr'], rotation='vertical')\n",
    "plt.yticks([])\n",
    "plt.tick_params(axis='both', which='major', labelsize=15)\n",
    "plt.ylim((0,27000))\n",
    "plt.figure(figsize=(3,100))\n",
    "plt.show();"
   ]
  },
  {
   "cell_type": "code",
   "execution_count": 312,
   "metadata": {
    "collapsed": true
   },
   "outputs": [],
   "source": [
    "# predicted home cost values using lasso model\n",
    "\n",
    "y_pred = best_lasso.predict(t_Xs)"
   ]
  },
  {
   "cell_type": "code",
   "execution_count": 313,
   "metadata": {},
   "outputs": [
    {
     "data": {
      "image/png": "[encoded data removed]",
      "text/plain": [
       "<matplotlib.figure.Figure at 0x119d51610>"
      ]
     },
     "metadata": {
      "image/png": {
       "height": 371,
       "width": 905
      }
     },
     "output_type": "display_data"
    }
   ],
   "source": [
    "# plotting predicted values versus actual values\n",
    "\n",
    "plt.figure(figsize=(15, 6))\n",
    "plt.scatter(test_y, y_pred, s=30, c='r', marker= '+', zorder=10)\n",
    "plt.plot([min(test_y), max(test_y)], [min(test_y), max(test_y)], c='k')\n",
    "plt.ylabel(\"Predicted Values\")\n",
    "plt.xlabel(\"Actual Values\")\n",
    "plt.show();"
   ]
  },
  {
   "cell_type": "code",
   "execution_count": 314,
   "metadata": {},
   "outputs": [
    {
     "data": {
      "image/png": "[encoded data removed]",
      "text/plain": [
       "<matplotlib.figure.Figure at 0x11ae7b9d0>"
      ]
     },
     "metadata": {
      "image/png": {
       "height": 485,
       "width": 915
      }
     },
     "output_type": "display_data"
    }
   ],
   "source": [
    "# A plot visualizing residuals \n",
    "\n",
    "fig, ax = plt.subplots(figsize=(15,7))\n",
    "\n",
    "ax.scatter(x=test_y, y=y_pred, c='k')\n",
    "ax.plot([min(test_y), max(test_y)], [min(test_y), max(test_y)], color='k');\n",
    "fig.suptitle('Plot Showing Residuals', fontsize=25)\n",
    "plt.ylabel(\"Predicted Home Values ($)\", fontsize=20)\n",
    "plt.xlabel(\"Actual Home Values ($)\", fontsize=20)\n",
    "for x, y in zip(test_y, y_pred):\n",
    "    ax.plot((x, x), (x, y), 'r-')"
   ]
  },
  {
   "cell_type": "code",
   "execution_count": 315,
   "metadata": {
    "collapsed": true
   },
   "outputs": [],
   "source": [
    "from sklearn.metrics import mean_squared_error\n",
    "from math import sqrt"
   ]
  },
  {
   "cell_type": "code",
   "execution_count": 316,
   "metadata": {},
   "outputs": [
    {
     "data": {
      "text/html": [
       "<div>\n",
       "<style>\n",
       "    .dataframe thead tr:only-child th {\n",
       "        text-align: right;\n",
       "    }\n",
       "\n",
       "    .dataframe thead th {\n",
       "        text-align: left;\n",
       "    }\n",
       "\n",
       "    .dataframe tbody tr th {\n",
       "        vertical-align: top;\n",
       "    }\n",
       "</style>\n",
       "<table border=\"1\" class=\"dataframe\">\n",
       "  <thead>\n",
       "    <tr style=\"text-align: right;\">\n",
       "      <th></th>\n",
       "      <th>Actual y</th>\n",
       "      <th>Predicted y</th>\n",
       "    </tr>\n",
       "  </thead>\n",
       "  <tbody>\n",
       "    <tr>\n",
       "      <th>16</th>\n",
       "      <td>149000</td>\n",
       "      <td>134323.273104</td>\n",
       "    </tr>\n",
       "    <tr>\n",
       "      <th>24</th>\n",
       "      <td>154000</td>\n",
       "      <td>129526.030697</td>\n",
       "    </tr>\n",
       "    <tr>\n",
       "      <th>26</th>\n",
       "      <td>134800</td>\n",
       "      <td>129301.527351</td>\n",
       "    </tr>\n",
       "    <tr>\n",
       "      <th>27</th>\n",
       "      <td>306000</td>\n",
       "      <td>312510.205285</td>\n",
       "    </tr>\n",
       "    <tr>\n",
       "      <th>33</th>\n",
       "      <td>165500</td>\n",
       "      <td>181715.998646</td>\n",
       "    </tr>\n",
       "    <tr>\n",
       "      <th>38</th>\n",
       "      <td>109000</td>\n",
       "      <td>128584.135100</td>\n",
       "    </tr>\n",
       "    <tr>\n",
       "      <th>45</th>\n",
       "      <td>319900</td>\n",
       "      <td>289336.372412</td>\n",
       "    </tr>\n",
       "    <tr>\n",
       "      <th>52</th>\n",
       "      <td>110000</td>\n",
       "      <td>84667.439018</td>\n",
       "    </tr>\n",
       "    <tr>\n",
       "      <th>63</th>\n",
       "      <td>140000</td>\n",
       "      <td>138079.722565</td>\n",
       "    </tr>\n",
       "    <tr>\n",
       "      <th>66</th>\n",
       "      <td>180000</td>\n",
       "      <td>234847.862192</td>\n",
       "    </tr>\n",
       "  </tbody>\n",
       "</table>\n",
       "</div>"
      ],
      "text/plain": [
       "    Actual y    Predicted y\n",
       "16    149000  134323.273104\n",
       "24    154000  129526.030697\n",
       "26    134800  129301.527351\n",
       "27    306000  312510.205285\n",
       "33    165500  181715.998646\n",
       "38    109000  128584.135100\n",
       "45    319900  289336.372412\n",
       "52    110000   84667.439018\n",
       "63    140000  138079.722565\n",
       "66    180000  234847.862192"
      ]
     },
     "execution_count": 316,
     "metadata": {},
     "output_type": "execute_result"
    }
   ],
   "source": [
    "# Data frame showing predicted y and actual y values for each home in the test set\n",
    "\n",
    "values = pd.DataFrame({'Predicted y': y_pred, 'Actual y': test_y})\n",
    "\n",
    "rms = sqrt(mean_squared_error(test_y, y_pred))\n",
    "values.head(10)"
   ]
  },
  {
   "cell_type": "code",
   "execution_count": 317,
   "metadata": {},
   "outputs": [
    {
     "name": "stdout",
     "output_type": "stream",
     "text": [
      "Root mean square error is $34128.0223533\n"
     ]
    }
   ],
   "source": [
    "print \"Root mean square error is $\" + str(rms)"
   ]
  },
  {
   "cell_type": "markdown",
   "metadata": {},
   "source": [
    "The suggested model is the Lasso with a R squared score of 0.82 on the test data.  It also had a mean squared error of $34,128.02.  The best predictors for price are the engineered feature total_sqft (Total square feet of the house) and neighborhood dummified.  "
   ]
  },
  {
   "cell_type": "markdown",
   "metadata": {},
   "source": [
    "<img src=\"http://imgur.com/l5NasQj.png\" style=\"float: left; margin: 25px 15px 0px 0px; height: 25px\">\n",
    "\n",
    "## 2. Determine any value of *changeable* property characteristics unexplained by the *fixed* ones.\n",
    "\n",
    "---\n",
    "\n",
    "Now that you have a model that estimates the price of a house based on its static characteristics, we can move forward with part 2 and 3 of the plan: what are the costs/benefits of quality, condition, and renovations?\n",
    "\n",
    "There are two specific requirements for these estimates:\n",
    "1. The estimates of effects must be in terms of dollars added or subtracted from the house value. \n",
    "2. The effects must be on the variance in price remaining from the first model.\n",
    "\n",
    "The residuals from the first model (training and testing) represent the variance in price unexplained by the fixed characteristics. Of that variance in price remaining, how much of it can be explained by the easy-to-change aspects of the property?\n",
    "\n",
    "---\n",
    "\n",
    "**Your goals:**\n",
    "1. Evaluate the effect in dollars of the renovate-able features. \n",
    "- How would your company use this second model and its coefficients to determine whether they should buy a property or not? Explain how the company can use the two models you have built to determine if they can make money. \n",
    "- Investigate how much of the variance in price remaining is explained by these features.\n",
    "- Do you trust your model? Should it be used to evaluate which properties to buy and fix up?"
   ]
  },
  {
   "cell_type": "code",
   "execution_count": 200,
   "metadata": {},
   "outputs": [
    {
     "data": {
      "text/html": [
       "<div>\n",
       "<style>\n",
       "    .dataframe thead tr:only-child th {\n",
       "        text-align: right;\n",
       "    }\n",
       "\n",
       "    .dataframe thead th {\n",
       "        text-align: left;\n",
       "    }\n",
       "\n",
       "    .dataframe tbody tr th {\n",
       "        vertical-align: top;\n",
       "    }\n",
       "</style>\n",
       "<table border=\"1\" class=\"dataframe\">\n",
       "  <thead>\n",
       "    <tr style=\"text-align: right;\">\n",
       "      <th></th>\n",
       "      <th>SalePrice</th>\n",
       "      <th>YrSold</th>\n",
       "      <th>total_sqft</th>\n",
       "      <th>Street_Grvl</th>\n",
       "      <th>Neighborhood_Blmngtn</th>\n",
       "      <th>Neighborhood_Blueste</th>\n",
       "      <th>Neighborhood_BrDale</th>\n",
       "      <th>Neighborhood_BrkSide</th>\n",
       "      <th>Neighborhood_ClearCr</th>\n",
       "      <th>Neighborhood_CollgCr</th>\n",
       "      <th>...</th>\n",
       "      <th>MSSub_50</th>\n",
       "      <th>MSSub_60</th>\n",
       "      <th>MSSub_70</th>\n",
       "      <th>MSSub_75</th>\n",
       "      <th>MSSub_80</th>\n",
       "      <th>MSSub_85</th>\n",
       "      <th>MSSub_90</th>\n",
       "      <th>MSSub_120</th>\n",
       "      <th>MSSub_160</th>\n",
       "      <th>MSSub_180</th>\n",
       "    </tr>\n",
       "  </thead>\n",
       "  <tbody>\n",
       "    <tr>\n",
       "      <th>0</th>\n",
       "      <td>208500</td>\n",
       "      <td>2008</td>\n",
       "      <td>3114</td>\n",
       "      <td>0</td>\n",
       "      <td>0</td>\n",
       "      <td>0</td>\n",
       "      <td>0</td>\n",
       "      <td>0</td>\n",
       "      <td>0</td>\n",
       "      <td>1</td>\n",
       "      <td>...</td>\n",
       "      <td>0</td>\n",
       "      <td>1</td>\n",
       "      <td>0</td>\n",
       "      <td>0</td>\n",
       "      <td>0</td>\n",
       "      <td>0</td>\n",
       "      <td>0</td>\n",
       "      <td>0</td>\n",
       "      <td>0</td>\n",
       "      <td>0</td>\n",
       "    </tr>\n",
       "    <tr>\n",
       "      <th>1</th>\n",
       "      <td>181500</td>\n",
       "      <td>2007</td>\n",
       "      <td>2984</td>\n",
       "      <td>0</td>\n",
       "      <td>0</td>\n",
       "      <td>0</td>\n",
       "      <td>0</td>\n",
       "      <td>0</td>\n",
       "      <td>0</td>\n",
       "      <td>0</td>\n",
       "      <td>...</td>\n",
       "      <td>0</td>\n",
       "      <td>0</td>\n",
       "      <td>0</td>\n",
       "      <td>0</td>\n",
       "      <td>0</td>\n",
       "      <td>0</td>\n",
       "      <td>0</td>\n",
       "      <td>0</td>\n",
       "      <td>0</td>\n",
       "      <td>0</td>\n",
       "    </tr>\n",
       "    <tr>\n",
       "      <th>2</th>\n",
       "      <td>223500</td>\n",
       "      <td>2008</td>\n",
       "      <td>3314</td>\n",
       "      <td>0</td>\n",
       "      <td>0</td>\n",
       "      <td>0</td>\n",
       "      <td>0</td>\n",
       "      <td>0</td>\n",
       "      <td>0</td>\n",
       "      <td>1</td>\n",
       "      <td>...</td>\n",
       "      <td>0</td>\n",
       "      <td>1</td>\n",
       "      <td>0</td>\n",
       "      <td>0</td>\n",
       "      <td>0</td>\n",
       "      <td>0</td>\n",
       "      <td>0</td>\n",
       "      <td>0</td>\n",
       "      <td>0</td>\n",
       "      <td>0</td>\n",
       "    </tr>\n",
       "    <tr>\n",
       "      <th>3</th>\n",
       "      <td>140000</td>\n",
       "      <td>2006</td>\n",
       "      <td>3115</td>\n",
       "      <td>0</td>\n",
       "      <td>0</td>\n",
       "      <td>0</td>\n",
       "      <td>0</td>\n",
       "      <td>0</td>\n",
       "      <td>0</td>\n",
       "      <td>0</td>\n",
       "      <td>...</td>\n",
       "      <td>0</td>\n",
       "      <td>0</td>\n",
       "      <td>1</td>\n",
       "      <td>0</td>\n",
       "      <td>0</td>\n",
       "      <td>0</td>\n",
       "      <td>0</td>\n",
       "      <td>0</td>\n",
       "      <td>0</td>\n",
       "      <td>0</td>\n",
       "    </tr>\n",
       "    <tr>\n",
       "      <th>4</th>\n",
       "      <td>250000</td>\n",
       "      <td>2008</td>\n",
       "      <td>4179</td>\n",
       "      <td>0</td>\n",
       "      <td>0</td>\n",
       "      <td>0</td>\n",
       "      <td>0</td>\n",
       "      <td>0</td>\n",
       "      <td>0</td>\n",
       "      <td>0</td>\n",
       "      <td>...</td>\n",
       "      <td>0</td>\n",
       "      <td>1</td>\n",
       "      <td>0</td>\n",
       "      <td>0</td>\n",
       "      <td>0</td>\n",
       "      <td>0</td>\n",
       "      <td>0</td>\n",
       "      <td>0</td>\n",
       "      <td>0</td>\n",
       "      <td>0</td>\n",
       "    </tr>\n",
       "  </tbody>\n",
       "</table>\n",
       "<p>5 rows × 42 columns</p>\n",
       "</div>"
      ],
      "text/plain": [
       "   SalePrice  YrSold  total_sqft  Street_Grvl  Neighborhood_Blmngtn  \\\n",
       "0     208500    2008        3114            0                     0   \n",
       "1     181500    2007        2984            0                     0   \n",
       "2     223500    2008        3314            0                     0   \n",
       "3     140000    2006        3115            0                     0   \n",
       "4     250000    2008        4179            0                     0   \n",
       "\n",
       "   Neighborhood_Blueste  Neighborhood_BrDale  Neighborhood_BrkSide  \\\n",
       "0                     0                    0                     0   \n",
       "1                     0                    0                     0   \n",
       "2                     0                    0                     0   \n",
       "3                     0                    0                     0   \n",
       "4                     0                    0                     0   \n",
       "\n",
       "   Neighborhood_ClearCr  Neighborhood_CollgCr    ...      MSSub_50  MSSub_60  \\\n",
       "0                     0                     1    ...             0         1   \n",
       "1                     0                     0    ...             0         0   \n",
       "2                     0                     1    ...             0         1   \n",
       "3                     0                     0    ...             0         0   \n",
       "4                     0                     0    ...             0         1   \n",
       "\n",
       "   MSSub_70  MSSub_75  MSSub_80  MSSub_85  MSSub_90  MSSub_120  MSSub_160  \\\n",
       "0         0         0         0         0         0          0          0   \n",
       "1         0         0         0         0         0          0          0   \n",
       "2         0         0         0         0         0          0          0   \n",
       "3         1         0         0         0         0          0          0   \n",
       "4         0         0         0         0         0          0          0   \n",
       "\n",
       "   MSSub_180  \n",
       "0          0  \n",
       "1          0  \n",
       "2          0  \n",
       "3          0  \n",
       "4          0  \n",
       "\n",
       "[5 rows x 42 columns]"
      ]
     },
     "execution_count": 200,
     "metadata": {},
     "output_type": "execute_result"
    }
   ],
   "source": [
    "\n",
    "train_data.head()"
   ]
  },
  {
   "cell_type": "code",
   "execution_count": 201,
   "metadata": {},
   "outputs": [
    {
     "data": {
      "text/plain": [
       "898    NaN\n",
       "Name: MiscFeature, dtype: object"
      ]
     },
     "execution_count": 201,
     "metadata": {},
     "output_type": "execute_result"
    }
   ],
   "source": [
    "x = df[df['SalePrice'] == 611657]\n",
    "x['MiscFeature']\n",
    "# test_y.max()"
   ]
  },
  {
   "cell_type": "code",
   "execution_count": 202,
   "metadata": {},
   "outputs": [
    {
     "data": {
      "text/html": [
       "<div>\n",
       "<style>\n",
       "    .dataframe thead tr:only-child th {\n",
       "        text-align: right;\n",
       "    }\n",
       "\n",
       "    .dataframe thead th {\n",
       "        text-align: left;\n",
       "    }\n",
       "\n",
       "    .dataframe tbody tr th {\n",
       "        vertical-align: top;\n",
       "    }\n",
       "</style>\n",
       "<table border=\"1\" class=\"dataframe\">\n",
       "  <thead>\n",
       "    <tr style=\"text-align: right;\">\n",
       "      <th></th>\n",
       "      <th>Id</th>\n",
       "      <th>MSSubClass</th>\n",
       "      <th>MSZoning</th>\n",
       "      <th>LotFrontage</th>\n",
       "      <th>LotArea</th>\n",
       "      <th>Street</th>\n",
       "      <th>Alley</th>\n",
       "      <th>LotShape</th>\n",
       "      <th>LandContour</th>\n",
       "      <th>Utilities</th>\n",
       "      <th>...</th>\n",
       "      <th>PoolQC</th>\n",
       "      <th>Fence</th>\n",
       "      <th>MiscFeature</th>\n",
       "      <th>MiscVal</th>\n",
       "      <th>MoSold</th>\n",
       "      <th>YrSold</th>\n",
       "      <th>SaleType</th>\n",
       "      <th>SaleCondition</th>\n",
       "      <th>SalePrice</th>\n",
       "      <th>total_sqft</th>\n",
       "    </tr>\n",
       "  </thead>\n",
       "  <tbody>\n",
       "    <tr>\n",
       "      <th>0</th>\n",
       "      <td>1</td>\n",
       "      <td>60</td>\n",
       "      <td>RL</td>\n",
       "      <td>65.0</td>\n",
       "      <td>8450</td>\n",
       "      <td>Pave</td>\n",
       "      <td>NaN</td>\n",
       "      <td>Reg</td>\n",
       "      <td>Lvl</td>\n",
       "      <td>AllPub</td>\n",
       "      <td>...</td>\n",
       "      <td>NaN</td>\n",
       "      <td>NaN</td>\n",
       "      <td>NaN</td>\n",
       "      <td>0</td>\n",
       "      <td>2</td>\n",
       "      <td>2008</td>\n",
       "      <td>WD</td>\n",
       "      <td>Normal</td>\n",
       "      <td>208500</td>\n",
       "      <td>3114</td>\n",
       "    </tr>\n",
       "    <tr>\n",
       "      <th>1</th>\n",
       "      <td>2</td>\n",
       "      <td>20</td>\n",
       "      <td>RL</td>\n",
       "      <td>80.0</td>\n",
       "      <td>9600</td>\n",
       "      <td>Pave</td>\n",
       "      <td>NaN</td>\n",
       "      <td>Reg</td>\n",
       "      <td>Lvl</td>\n",
       "      <td>AllPub</td>\n",
       "      <td>...</td>\n",
       "      <td>NaN</td>\n",
       "      <td>NaN</td>\n",
       "      <td>NaN</td>\n",
       "      <td>0</td>\n",
       "      <td>5</td>\n",
       "      <td>2007</td>\n",
       "      <td>WD</td>\n",
       "      <td>Normal</td>\n",
       "      <td>181500</td>\n",
       "      <td>2984</td>\n",
       "    </tr>\n",
       "    <tr>\n",
       "      <th>2</th>\n",
       "      <td>3</td>\n",
       "      <td>60</td>\n",
       "      <td>RL</td>\n",
       "      <td>68.0</td>\n",
       "      <td>11250</td>\n",
       "      <td>Pave</td>\n",
       "      <td>NaN</td>\n",
       "      <td>IR1</td>\n",
       "      <td>Lvl</td>\n",
       "      <td>AllPub</td>\n",
       "      <td>...</td>\n",
       "      <td>NaN</td>\n",
       "      <td>NaN</td>\n",
       "      <td>NaN</td>\n",
       "      <td>0</td>\n",
       "      <td>9</td>\n",
       "      <td>2008</td>\n",
       "      <td>WD</td>\n",
       "      <td>Normal</td>\n",
       "      <td>223500</td>\n",
       "      <td>3314</td>\n",
       "    </tr>\n",
       "    <tr>\n",
       "      <th>3</th>\n",
       "      <td>4</td>\n",
       "      <td>70</td>\n",
       "      <td>RL</td>\n",
       "      <td>60.0</td>\n",
       "      <td>9550</td>\n",
       "      <td>Pave</td>\n",
       "      <td>NaN</td>\n",
       "      <td>IR1</td>\n",
       "      <td>Lvl</td>\n",
       "      <td>AllPub</td>\n",
       "      <td>...</td>\n",
       "      <td>NaN</td>\n",
       "      <td>NaN</td>\n",
       "      <td>NaN</td>\n",
       "      <td>0</td>\n",
       "      <td>2</td>\n",
       "      <td>2006</td>\n",
       "      <td>WD</td>\n",
       "      <td>Abnorml</td>\n",
       "      <td>140000</td>\n",
       "      <td>3115</td>\n",
       "    </tr>\n",
       "    <tr>\n",
       "      <th>4</th>\n",
       "      <td>5</td>\n",
       "      <td>60</td>\n",
       "      <td>RL</td>\n",
       "      <td>84.0</td>\n",
       "      <td>14260</td>\n",
       "      <td>Pave</td>\n",
       "      <td>NaN</td>\n",
       "      <td>IR1</td>\n",
       "      <td>Lvl</td>\n",
       "      <td>AllPub</td>\n",
       "      <td>...</td>\n",
       "      <td>NaN</td>\n",
       "      <td>NaN</td>\n",
       "      <td>NaN</td>\n",
       "      <td>0</td>\n",
       "      <td>12</td>\n",
       "      <td>2008</td>\n",
       "      <td>WD</td>\n",
       "      <td>Normal</td>\n",
       "      <td>250000</td>\n",
       "      <td>4179</td>\n",
       "    </tr>\n",
       "  </tbody>\n",
       "</table>\n",
       "<p>5 rows × 82 columns</p>\n",
       "</div>"
      ],
      "text/plain": [
       "   Id  MSSubClass MSZoning  LotFrontage  LotArea Street Alley LotShape  \\\n",
       "0   1          60       RL         65.0     8450   Pave   NaN      Reg   \n",
       "1   2          20       RL         80.0     9600   Pave   NaN      Reg   \n",
       "2   3          60       RL         68.0    11250   Pave   NaN      IR1   \n",
       "3   4          70       RL         60.0     9550   Pave   NaN      IR1   \n",
       "4   5          60       RL         84.0    14260   Pave   NaN      IR1   \n",
       "\n",
       "  LandContour Utilities     ...     PoolQC Fence MiscFeature MiscVal MoSold  \\\n",
       "0         Lvl    AllPub     ...        NaN   NaN         NaN       0      2   \n",
       "1         Lvl    AllPub     ...        NaN   NaN         NaN       0      5   \n",
       "2         Lvl    AllPub     ...        NaN   NaN         NaN       0      9   \n",
       "3         Lvl    AllPub     ...        NaN   NaN         NaN       0      2   \n",
       "4         Lvl    AllPub     ...        NaN   NaN         NaN       0     12   \n",
       "\n",
       "  YrSold SaleType  SaleCondition  SalePrice  total_sqft  \n",
       "0   2008       WD         Normal     208500        3114  \n",
       "1   2007       WD         Normal     181500        2984  \n",
       "2   2008       WD         Normal     223500        3314  \n",
       "3   2006       WD        Abnorml     140000        3115  \n",
       "4   2008       WD         Normal     250000        4179  \n",
       "\n",
       "[5 rows x 82 columns]"
      ]
     },
     "execution_count": 202,
     "metadata": {},
     "output_type": "execute_result"
    }
   ],
   "source": [
    "df.head()"
   ]
  },
  {
   "cell_type": "code",
   "execution_count": 203,
   "metadata": {},
   "outputs": [
    {
     "data": {
      "text/plain": [
       "Index([u'Id', u'MSSubClass', u'MSZoning', u'LotFrontage', u'LotArea',\n",
       "       u'Street', u'Alley', u'LotShape', u'LandContour', u'Utilities',\n",
       "       u'LotConfig', u'LandSlope', u'Neighborhood', u'Condition1',\n",
       "       u'Condition2', u'BldgType', u'HouseStyle', u'OverallQual',\n",
       "       u'OverallCond', u'YearBuilt', u'YearRemodAdd', u'RoofStyle',\n",
       "       u'RoofMatl', u'Exterior1st', u'Exterior2nd', u'MasVnrType',\n",
       "       u'MasVnrArea', u'ExterQual', u'ExterCond', u'Foundation', u'BsmtQual',\n",
       "       u'BsmtCond', u'BsmtExposure', u'BsmtFinType1', u'BsmtFinSF1',\n",
       "       u'BsmtFinType2', u'BsmtFinSF2', u'BsmtUnfSF', u'TotalBsmtSF',\n",
       "       u'Heating', u'HeatingQC', u'CentralAir', u'Electrical', u'1stFlrSF',\n",
       "       u'2ndFlrSF', u'LowQualFinSF', u'GrLivArea', u'BsmtFullBath',\n",
       "       u'BsmtHalfBath', u'FullBath', u'HalfBath', u'BedroomAbvGr',\n",
       "       u'KitchenAbvGr', u'KitchenQual', u'TotRmsAbvGrd', u'Functional',\n",
       "       u'Fireplaces', u'FireplaceQu', u'GarageType', u'GarageYrBlt',\n",
       "       u'GarageFinish', u'GarageCars', u'GarageArea', u'GarageQual',\n",
       "       u'GarageCond', u'PavedDrive', u'WoodDeckSF', u'OpenPorchSF',\n",
       "       u'EnclosedPorch', u'3SsnPorch', u'ScreenPorch', u'PoolArea', u'PoolQC',\n",
       "       u'Fence', u'MiscFeature', u'MiscVal', u'MoSold', u'YrSold', u'SaleType',\n",
       "       u'SaleCondition', u'SalePrice', u'total_sqft'],\n",
       "      dtype='object')"
      ]
     },
     "execution_count": 203,
     "metadata": {},
     "output_type": "execute_result"
    }
   ],
   "source": [
    "df.columns"
   ]
  },
  {
   "cell_type": "code",
   "execution_count": 204,
   "metadata": {},
   "outputs": [
    {
     "data": {
      "text/plain": [
       "TA    1303\n",
       "Fa      48\n",
       "Gd      14\n",
       "Ex       3\n",
       "Po       3\n",
       "Name: GarageQual, dtype: int64"
      ]
     },
     "execution_count": 204,
     "metadata": {},
     "output_type": "execute_result"
    }
   ],
   "source": [
    "df['GarageQual'].value_counts()"
   ]
  },
  {
   "cell_type": "code",
   "execution_count": 205,
   "metadata": {},
   "outputs": [
    {
     "data": {
      "text/plain": [
       "TA    1319\n",
       "Fa      34\n",
       "Gd       9\n",
       "Po       7\n",
       "Ex       2\n",
       "Name: GarageCond, dtype: int64"
      ]
     },
     "execution_count": 205,
     "metadata": {},
     "output_type": "execute_result"
    }
   ],
   "source": [
    "df['GarageCond'].value_counts()"
   ]
  },
  {
   "cell_type": "code",
   "execution_count": 206,
   "metadata": {
    "collapsed": true
   },
   "outputs": [],
   "source": [
    "# Obtaining dummy variables of renovate-able features\n",
    "\n",
    "dummy_eq =  pd.get_dummies(df['ExterQual'], prefix='ExterQual', prefix_sep='_')\n",
    "dummy_ec =  pd.get_dummies(df['ExterCond'], prefix='ExterCond', prefix_sep='_')\n",
    "dummy_bq =  pd.get_dummies(df['BsmtQual'], prefix='BsmtQual', prefix_sep='_')\n",
    "dummy_bc =  pd.get_dummies(df['BsmtCond'], prefix='BsmtCond', prefix_sep='_')\n",
    "dummy_k =  pd.get_dummies(df['KitchenQual'], prefix='KitchenQual', prefix_sep='_')\n",
    "dummy_fq =  pd.get_dummies(df['FireplaceQu'], prefix='FireplaceQu', prefix_sep='_')\n",
    "dummy_gq =  pd.get_dummies(df['GarageQual'], prefix='GarageQual', prefix_sep='_')\n",
    "dummy_gc =  pd.get_dummies(df['GarageCond'], prefix='GarageCond', prefix_sep='_')\n"
   ]
  },
  {
   "cell_type": "code",
   "execution_count": 207,
   "metadata": {},
   "outputs": [
    {
     "data": {
      "text/html": [
       "<div>\n",
       "<style>\n",
       "    .dataframe thead tr:only-child th {\n",
       "        text-align: right;\n",
       "    }\n",
       "\n",
       "    .dataframe thead th {\n",
       "        text-align: left;\n",
       "    }\n",
       "\n",
       "    .dataframe tbody tr th {\n",
       "        vertical-align: top;\n",
       "    }\n",
       "</style>\n",
       "<table border=\"1\" class=\"dataframe\">\n",
       "  <thead>\n",
       "    <tr style=\"text-align: right;\">\n",
       "      <th></th>\n",
       "      <th>GarageCond_Ex</th>\n",
       "      <th>GarageCond_Fa</th>\n",
       "      <th>GarageCond_Gd</th>\n",
       "      <th>GarageCond_Po</th>\n",
       "      <th>GarageCond_TA</th>\n",
       "    </tr>\n",
       "  </thead>\n",
       "  <tbody>\n",
       "    <tr>\n",
       "      <th>0</th>\n",
       "      <td>0</td>\n",
       "      <td>0</td>\n",
       "      <td>0</td>\n",
       "      <td>0</td>\n",
       "      <td>1</td>\n",
       "    </tr>\n",
       "    <tr>\n",
       "      <th>1</th>\n",
       "      <td>0</td>\n",
       "      <td>0</td>\n",
       "      <td>0</td>\n",
       "      <td>0</td>\n",
       "      <td>1</td>\n",
       "    </tr>\n",
       "    <tr>\n",
       "      <th>2</th>\n",
       "      <td>0</td>\n",
       "      <td>0</td>\n",
       "      <td>0</td>\n",
       "      <td>0</td>\n",
       "      <td>1</td>\n",
       "    </tr>\n",
       "    <tr>\n",
       "      <th>3</th>\n",
       "      <td>0</td>\n",
       "      <td>0</td>\n",
       "      <td>0</td>\n",
       "      <td>0</td>\n",
       "      <td>1</td>\n",
       "    </tr>\n",
       "    <tr>\n",
       "      <th>4</th>\n",
       "      <td>0</td>\n",
       "      <td>0</td>\n",
       "      <td>0</td>\n",
       "      <td>0</td>\n",
       "      <td>1</td>\n",
       "    </tr>\n",
       "  </tbody>\n",
       "</table>\n",
       "</div>"
      ],
      "text/plain": [
       "   GarageCond_Ex  GarageCond_Fa  GarageCond_Gd  GarageCond_Po  GarageCond_TA\n",
       "0              0              0              0              0              1\n",
       "1              0              0              0              0              1\n",
       "2              0              0              0              0              1\n",
       "3              0              0              0              0              1\n",
       "4              0              0              0              0              1"
      ]
     },
     "execution_count": 207,
     "metadata": {},
     "output_type": "execute_result"
    }
   ],
   "source": [
    "dummy_gc.head()"
   ]
  },
  {
   "cell_type": "code",
   "execution_count": 208,
   "metadata": {},
   "outputs": [],
   "source": [
    "# Including numeric renovate-able features, dummy variables and dropping a dummy variable column from each dummy \n",
    "# variable set\n",
    "\n",
    "train_data = train_data.join(df[['OverallQual', 'OverallCond', 'YearBuilt', 'YearRemodAdd', 'GarageCars']]).\\\n",
    "join(dummy_eq).join(dummy_ec).\\\n",
    "join(dummy_bq).join(dummy_bc).join(dummy_k).join(dummy_fq).\\\n",
    "join(dummy_gq).join(dummy_gc).drop(['ExterQual_TA', 'ExterCond_TA', \\\n",
    "                                    'BsmtQual_TA', 'BsmtCond_TA', 'KitchenQual_TA', 'FireplaceQu_TA', \\\n",
    "                                   'GarageQual_TA', 'GarageCond_TA'], axis=1)\n"
   ]
  },
  {
   "cell_type": "code",
   "execution_count": 209,
   "metadata": {
    "collapsed": true
   },
   "outputs": [],
   "source": [
    "# A:\n",
    "# dropping na\n",
    "train_data.dropna(inplace=True)"
   ]
  },
  {
   "cell_type": "code",
   "execution_count": 210,
   "metadata": {
    "collapsed": true
   },
   "outputs": [],
   "source": [
    "# creating test data\n",
    "\n",
    "test_data = train_data[train_data['YrSold'] == 2010]\n",
    "test_X = test_data[test_data.columns[2:]]\n",
    "test_y = test_data['SalePrice']"
   ]
  },
  {
   "cell_type": "code",
   "execution_count": 211,
   "metadata": {
    "collapsed": true
   },
   "outputs": [],
   "source": [
    "# creating train data\n",
    "\n",
    "o_data = train_data[train_data['YrSold'] < 2010]\n",
    "y = o_data['SalePrice']\n",
    "X = o_data[train_data.columns[2:]]"
   ]
  },
  {
   "cell_type": "code",
   "execution_count": 212,
   "metadata": {
    "collapsed": true
   },
   "outputs": [],
   "source": [
    "# Scaling training set\n",
    "\n",
    "ss2 = StandardScaler()\n",
    "\n",
    "ss.fit(X)\n",
    "Xs = ss.transform(X)"
   ]
  },
  {
   "cell_type": "code",
   "execution_count": 236,
   "metadata": {
    "collapsed": true
   },
   "outputs": [],
   "source": [
    "# Defining elastic parameters and a grid search using elastic net\n",
    "\n",
    "elastic_params = {\n",
    "    'alpha' : np.logspace(-5, 5, 20),\n",
    "    'l1_ratio' : [0.1, 0.2, 0.5, 0.6, 0.8, 0.9]\n",
    "}\n",
    "\n",
    "elastic_gridsearch = GridSearchCV(ElasticNet(), elastic_params, verbose=1, cv=10)"
   ]
  },
  {
   "cell_type": "code",
   "execution_count": 240,
   "metadata": {},
   "outputs": [
    {
     "name": "stdout",
     "output_type": "stream",
     "text": [
      "Fitting 10 folds for each of 120 candidates, totalling 1200 fits\n"
     ]
    },
    {
     "name": "stderr",
     "output_type": "stream",
     "text": [
      "[Parallel(n_jobs=1)]: Done 1200 out of 1200 | elapsed:   40.3s finished\n"
     ]
    }
   ],
   "source": [
    "elastic_gridsearch.fit(Xs, y)\n",
    "best_elastic = elastic_gridsearch.best_estimator_"
   ]
  },
  {
   "cell_type": "code",
   "execution_count": 241,
   "metadata": {},
   "outputs": [
    {
     "data": {
      "text/plain": [
       "0.82516073991406658"
      ]
     },
     "execution_count": 241,
     "metadata": {},
     "output_type": "execute_result"
    }
   ],
   "source": [
    "elastic_gridsearch.best_score_"
   ]
  },
  {
   "cell_type": "code",
   "execution_count": 242,
   "metadata": {},
   "outputs": [
    {
     "data": {
      "text/plain": [
       "{'alpha': 0.54555947811685146, 'l1_ratio': 0.8}"
      ]
     },
     "execution_count": 242,
     "metadata": {},
     "output_type": "execute_result"
    }
   ],
   "source": [
    "# Model predicts ridge as best model\n",
    "\n",
    "elastic_gridsearch.best_params_"
   ]
  },
  {
   "cell_type": "code",
   "execution_count": 243,
   "metadata": {
    "collapsed": true
   },
   "outputs": [],
   "source": [
    "# Defining ridge params for a ridge grid search\n",
    "\n",
    "ridge_params = {\n",
    "    'alpha' : np.logspace(-5, 5, 20)\n",
    "}"
   ]
  },
  {
   "cell_type": "code",
   "execution_count": 244,
   "metadata": {},
   "outputs": [
    {
     "name": "stdout",
     "output_type": "stream",
     "text": [
      "Fitting 10 folds for each of 20 candidates, totalling 200 fits\n"
     ]
    },
    {
     "name": "stderr",
     "output_type": "stream",
     "text": [
      "[Parallel(n_jobs=1)]: Done 200 out of 200 | elapsed:    2.0s finished\n"
     ]
    }
   ],
   "source": [
    "# running gridsearch on training data\n",
    "\n",
    "ridge_gridsearch = GridSearchCV(Ridge(), ridge_params, verbose=1, cv=10)\n",
    "\n",
    "ridge_gridsearch.fit(Xs, y)\n",
    "best_ridge = ridge_gridsearch.best_estimator_"
   ]
  },
  {
   "cell_type": "code",
   "execution_count": 245,
   "metadata": {},
   "outputs": [
    {
     "data": {
      "text/plain": [
       "0.82463969502151402"
      ]
     },
     "execution_count": 245,
     "metadata": {},
     "output_type": "execute_result"
    }
   ],
   "source": [
    "ridge_gridsearch.best_score_"
   ]
  },
  {
   "cell_type": "code",
   "execution_count": 246,
   "metadata": {},
   "outputs": [
    {
     "data": {
      "text/plain": [
       "{'alpha': 69.519279617756055}"
      ]
     },
     "execution_count": 246,
     "metadata": {},
     "output_type": "execute_result"
    }
   ],
   "source": [
    "ridge_gridsearch.best_params_"
   ]
  },
  {
   "cell_type": "code",
   "execution_count": 247,
   "metadata": {
    "collapsed": true
   },
   "outputs": [],
   "source": [
    "# Defining lasso params for a ridge grid search\n",
    "\n",
    "lasso_params = {\n",
    "    'alpha' : np.logspace(-5, 5, 20)\n",
    "}\n",
    "\n",
    "lasso_gridsearch = GridSearchCV(Lasso(), lasso_params, verbose=1, cv=10)"
   ]
  },
  {
   "cell_type": "code",
   "execution_count": 248,
   "metadata": {},
   "outputs": [
    {
     "name": "stdout",
     "output_type": "stream",
     "text": [
      "Fitting 10 folds for each of 20 candidates, totalling 200 fits\n"
     ]
    },
    {
     "name": "stderr",
     "output_type": "stream",
     "text": [
      "[Parallel(n_jobs=1)]: Done 200 out of 200 | elapsed:    9.0s finished\n"
     ]
    }
   ],
   "source": [
    "# running gridsearch on training data\n",
    "\n",
    "lasso_gridsearch.fit(Xs, y)\n",
    "best_lasso = lasso_gridsearch.best_estimator_"
   ]
  },
  {
   "cell_type": "code",
   "execution_count": 249,
   "metadata": {},
   "outputs": [
    {
     "data": {
      "text/plain": [
       "0.82234977140290821"
      ]
     },
     "execution_count": 249,
     "metadata": {},
     "output_type": "execute_result"
    }
   ],
   "source": [
    "# score is very similar to ridge score \n",
    "\n",
    "lasso_gridsearch.best_score_"
   ]
  },
  {
   "cell_type": "code",
   "execution_count": 250,
   "metadata": {},
   "outputs": [
    {
     "data": {
      "text/plain": [
       "{'alpha': 69.519279617756055}"
      ]
     },
     "execution_count": 250,
     "metadata": {},
     "output_type": "execute_result"
    }
   ],
   "source": [
    "lasso_gridsearch.best_params_"
   ]
  },
  {
   "cell_type": "code",
   "execution_count": 251,
   "metadata": {},
   "outputs": [
    {
     "data": {
      "text/plain": [
       "0.8597150351337699"
      ]
     },
     "execution_count": 251,
     "metadata": {},
     "output_type": "execute_result"
    }
   ],
   "source": [
    "# transforming test features and scoring test set on lasso model\n",
    "# lasso performs better than ridge on test set\n",
    "\n",
    "t_Xs = ss.transform(test_X)\n",
    "\n",
    "best_lasso.score(t_Xs, test_y)"
   ]
  },
  {
   "cell_type": "code",
   "execution_count": 252,
   "metadata": {},
   "outputs": [
    {
     "data": {
      "text/plain": [
       "0.85704796050029131"
      ]
     },
     "execution_count": 252,
     "metadata": {},
     "output_type": "execute_result"
    }
   ],
   "source": [
    "# scoring test set on ridge model\n",
    "\n",
    "best_ridge.score(t_Xs, test_y)"
   ]
  },
  {
   "cell_type": "code",
   "execution_count": 253,
   "metadata": {},
   "outputs": [
    {
     "data": {
      "text/html": [
       "<div>\n",
       "<style>\n",
       "    .dataframe thead tr:only-child th {\n",
       "        text-align: right;\n",
       "    }\n",
       "\n",
       "    .dataframe thead th {\n",
       "        text-align: left;\n",
       "    }\n",
       "\n",
       "    .dataframe tbody tr th {\n",
       "        vertical-align: top;\n",
       "    }\n",
       "</style>\n",
       "<table border=\"1\" class=\"dataframe\">\n",
       "  <thead>\n",
       "    <tr style=\"text-align: right;\">\n",
       "      <th></th>\n",
       "      <th>abs_coef</th>\n",
       "      <th>coef</th>\n",
       "      <th>variable</th>\n",
       "    </tr>\n",
       "  </thead>\n",
       "  <tbody>\n",
       "    <tr>\n",
       "      <th>0</th>\n",
       "      <td>23887.060812</td>\n",
       "      <td>23887.060812</td>\n",
       "      <td>total_sqft</td>\n",
       "    </tr>\n",
       "    <tr>\n",
       "      <th>40</th>\n",
       "      <td>13769.260444</td>\n",
       "      <td>13769.260444</td>\n",
       "      <td>OverallQual</td>\n",
       "    </tr>\n",
       "    <tr>\n",
       "      <th>52</th>\n",
       "      <td>10453.855465</td>\n",
       "      <td>10453.855465</td>\n",
       "      <td>BsmtQual_Ex</td>\n",
       "    </tr>\n",
       "    <tr>\n",
       "      <th>17</th>\n",
       "      <td>10384.257314</td>\n",
       "      <td>10384.257314</td>\n",
       "      <td>Neighborhood_NoRidge</td>\n",
       "    </tr>\n",
       "    <tr>\n",
       "      <th>58</th>\n",
       "      <td>6642.107885</td>\n",
       "      <td>6642.107885</td>\n",
       "      <td>KitchenQual_Ex</td>\n",
       "    </tr>\n",
       "    <tr>\n",
       "      <th>65</th>\n",
       "      <td>6583.313753</td>\n",
       "      <td>6583.313753</td>\n",
       "      <td>GarageQual_Ex</td>\n",
       "    </tr>\n",
       "    <tr>\n",
       "      <th>19</th>\n",
       "      <td>6524.069981</td>\n",
       "      <td>-6524.069981</td>\n",
       "      <td>Neighborhood_OldTown</td>\n",
       "    </tr>\n",
       "    <tr>\n",
       "      <th>24</th>\n",
       "      <td>5909.587968</td>\n",
       "      <td>5909.587968</td>\n",
       "      <td>Neighborhood_StoneBr</td>\n",
       "    </tr>\n",
       "    <tr>\n",
       "      <th>44</th>\n",
       "      <td>5544.167600</td>\n",
       "      <td>5544.167600</td>\n",
       "      <td>GarageCars</td>\n",
       "    </tr>\n",
       "    <tr>\n",
       "      <th>41</th>\n",
       "      <td>5367.454091</td>\n",
       "      <td>5367.454091</td>\n",
       "      <td>OverallCond</td>\n",
       "    </tr>\n",
       "  </tbody>\n",
       "</table>\n",
       "</div>"
      ],
      "text/plain": [
       "        abs_coef          coef              variable\n",
       "0   23887.060812  23887.060812            total_sqft\n",
       "40  13769.260444  13769.260444           OverallQual\n",
       "52  10453.855465  10453.855465           BsmtQual_Ex\n",
       "17  10384.257314  10384.257314  Neighborhood_NoRidge\n",
       "58   6642.107885   6642.107885        KitchenQual_Ex\n",
       "65   6583.313753   6583.313753         GarageQual_Ex\n",
       "19   6524.069981  -6524.069981  Neighborhood_OldTown\n",
       "24   5909.587968   5909.587968  Neighborhood_StoneBr\n",
       "44   5544.167600   5544.167600            GarageCars\n",
       "41   5367.454091   5367.454091           OverallCond"
      ]
     },
     "execution_count": 253,
     "metadata": {},
     "output_type": "execute_result"
    }
   ],
   "source": [
    "# ridge coefficients\n",
    "\n",
    "ridge_coef = pd.DataFrame({'variable': X.columns, 'coef': best_ridge.coef_, \\\n",
    "                           'abs_coef': np.abs(best_ridge.coef_)})\n",
    "ridge_coef.sort_values('abs_coef', ascending=False).head(10)"
   ]
  },
  {
   "cell_type": "code",
   "execution_count": 254,
   "metadata": {
    "scrolled": true
   },
   "outputs": [
    {
     "data": {
      "text/html": [
       "<div>\n",
       "<style>\n",
       "    .dataframe thead tr:only-child th {\n",
       "        text-align: right;\n",
       "    }\n",
       "\n",
       "    .dataframe thead th {\n",
       "        text-align: left;\n",
       "    }\n",
       "\n",
       "    .dataframe tbody tr th {\n",
       "        vertical-align: top;\n",
       "    }\n",
       "</style>\n",
       "<table border=\"1\" class=\"dataframe\">\n",
       "  <thead>\n",
       "    <tr style=\"text-align: right;\">\n",
       "      <th></th>\n",
       "      <th>abs_coef</th>\n",
       "      <th>coef</th>\n",
       "      <th>variable</th>\n",
       "    </tr>\n",
       "  </thead>\n",
       "  <tbody>\n",
       "    <tr>\n",
       "      <th>0</th>\n",
       "      <td>26278.007766</td>\n",
       "      <td>26278.007766</td>\n",
       "      <td>total_sqft</td>\n",
       "    </tr>\n",
       "    <tr>\n",
       "      <th>40</th>\n",
       "      <td>13925.688914</td>\n",
       "      <td>13925.688914</td>\n",
       "      <td>OverallQual</td>\n",
       "    </tr>\n",
       "    <tr>\n",
       "      <th>52</th>\n",
       "      <td>10881.940079</td>\n",
       "      <td>10881.940079</td>\n",
       "      <td>BsmtQual_Ex</td>\n",
       "    </tr>\n",
       "    <tr>\n",
       "      <th>17</th>\n",
       "      <td>9591.751187</td>\n",
       "      <td>9591.751187</td>\n",
       "      <td>Neighborhood_NoRidge</td>\n",
       "    </tr>\n",
       "    <tr>\n",
       "      <th>19</th>\n",
       "      <td>9323.905275</td>\n",
       "      <td>-9323.905275</td>\n",
       "      <td>Neighborhood_OldTown</td>\n",
       "    </tr>\n",
       "    <tr>\n",
       "      <th>65</th>\n",
       "      <td>7998.036787</td>\n",
       "      <td>7998.036787</td>\n",
       "      <td>GarageQual_Ex</td>\n",
       "    </tr>\n",
       "    <tr>\n",
       "      <th>14</th>\n",
       "      <td>7785.212197</td>\n",
       "      <td>-7785.212197</td>\n",
       "      <td>Neighborhood_NAmes</td>\n",
       "    </tr>\n",
       "    <tr>\n",
       "      <th>9</th>\n",
       "      <td>7051.039099</td>\n",
       "      <td>-7051.039099</td>\n",
       "      <td>Neighborhood_Edwards</td>\n",
       "    </tr>\n",
       "    <tr>\n",
       "      <th>69</th>\n",
       "      <td>6377.480067</td>\n",
       "      <td>-6377.480067</td>\n",
       "      <td>GarageCond_Ex</td>\n",
       "    </tr>\n",
       "    <tr>\n",
       "      <th>58</th>\n",
       "      <td>6305.916882</td>\n",
       "      <td>6305.916882</td>\n",
       "      <td>KitchenQual_Ex</td>\n",
       "    </tr>\n",
       "    <tr>\n",
       "      <th>41</th>\n",
       "      <td>5991.270086</td>\n",
       "      <td>5991.270086</td>\n",
       "      <td>OverallCond</td>\n",
       "    </tr>\n",
       "    <tr>\n",
       "      <th>38</th>\n",
       "      <td>5569.400755</td>\n",
       "      <td>-5569.400755</td>\n",
       "      <td>MSSub_160</td>\n",
       "    </tr>\n",
       "    <tr>\n",
       "      <th>24</th>\n",
       "      <td>5476.685482</td>\n",
       "      <td>5476.685482</td>\n",
       "      <td>Neighborhood_StoneBr</td>\n",
       "    </tr>\n",
       "    <tr>\n",
       "      <th>37</th>\n",
       "      <td>5455.129741</td>\n",
       "      <td>-5455.129741</td>\n",
       "      <td>MSSub_120</td>\n",
       "    </tr>\n",
       "    <tr>\n",
       "      <th>44</th>\n",
       "      <td>4449.609792</td>\n",
       "      <td>4449.609792</td>\n",
       "      <td>GarageCars</td>\n",
       "    </tr>\n",
       "    <tr>\n",
       "      <th>16</th>\n",
       "      <td>4417.010381</td>\n",
       "      <td>-4417.010381</td>\n",
       "      <td>Neighborhood_NWAmes</td>\n",
       "    </tr>\n",
       "    <tr>\n",
       "      <th>13</th>\n",
       "      <td>4350.167125</td>\n",
       "      <td>-4350.167125</td>\n",
       "      <td>Neighborhood_Mitchel</td>\n",
       "    </tr>\n",
       "    <tr>\n",
       "      <th>31</th>\n",
       "      <td>4231.882593</td>\n",
       "      <td>4231.882593</td>\n",
       "      <td>MSSub_60</td>\n",
       "    </tr>\n",
       "    <tr>\n",
       "      <th>21</th>\n",
       "      <td>4100.258702</td>\n",
       "      <td>-4100.258702</td>\n",
       "      <td>Neighborhood_Sawyer</td>\n",
       "    </tr>\n",
       "    <tr>\n",
       "      <th>7</th>\n",
       "      <td>4093.119788</td>\n",
       "      <td>-4093.119788</td>\n",
       "      <td>Neighborhood_CollgCr</td>\n",
       "    </tr>\n",
       "    <tr>\n",
       "      <th>5</th>\n",
       "      <td>4020.665090</td>\n",
       "      <td>-4020.665090</td>\n",
       "      <td>Neighborhood_BrkSide</td>\n",
       "    </tr>\n",
       "    <tr>\n",
       "      <th>18</th>\n",
       "      <td>4002.393554</td>\n",
       "      <td>4002.393554</td>\n",
       "      <td>Neighborhood_NridgHt</td>\n",
       "    </tr>\n",
       "    <tr>\n",
       "      <th>11</th>\n",
       "      <td>3683.374740</td>\n",
       "      <td>-3683.374740</td>\n",
       "      <td>Neighborhood_IDOTRR</td>\n",
       "    </tr>\n",
       "    <tr>\n",
       "      <th>10</th>\n",
       "      <td>3521.877014</td>\n",
       "      <td>-3521.877014</td>\n",
       "      <td>Neighborhood_Gilbert</td>\n",
       "    </tr>\n",
       "    <tr>\n",
       "      <th>45</th>\n",
       "      <td>3001.006228</td>\n",
       "      <td>3001.006228</td>\n",
       "      <td>ExterQual_Ex</td>\n",
       "    </tr>\n",
       "    <tr>\n",
       "      <th>63</th>\n",
       "      <td>2934.658715</td>\n",
       "      <td>2934.658715</td>\n",
       "      <td>FireplaceQu_Gd</td>\n",
       "    </tr>\n",
       "    <tr>\n",
       "      <th>61</th>\n",
       "      <td>2708.221799</td>\n",
       "      <td>2708.221799</td>\n",
       "      <td>FireplaceQu_Ex</td>\n",
       "    </tr>\n",
       "    <tr>\n",
       "      <th>20</th>\n",
       "      <td>2657.325257</td>\n",
       "      <td>-2657.325257</td>\n",
       "      <td>Neighborhood_SWISU</td>\n",
       "    </tr>\n",
       "    <tr>\n",
       "      <th>54</th>\n",
       "      <td>2635.969938</td>\n",
       "      <td>2635.969938</td>\n",
       "      <td>BsmtQual_Gd</td>\n",
       "    </tr>\n",
       "    <tr>\n",
       "      <th>43</th>\n",
       "      <td>2562.810568</td>\n",
       "      <td>2562.810568</td>\n",
       "      <td>YearRemodAdd</td>\n",
       "    </tr>\n",
       "    <tr>\n",
       "      <th>...</th>\n",
       "      <td>...</td>\n",
       "      <td>...</td>\n",
       "      <td>...</td>\n",
       "    </tr>\n",
       "    <tr>\n",
       "      <th>47</th>\n",
       "      <td>893.210175</td>\n",
       "      <td>893.210175</td>\n",
       "      <td>ExterQual_Gd</td>\n",
       "    </tr>\n",
       "    <tr>\n",
       "      <th>57</th>\n",
       "      <td>881.288377</td>\n",
       "      <td>881.288377</td>\n",
       "      <td>BsmtCond_Po</td>\n",
       "    </tr>\n",
       "    <tr>\n",
       "      <th>29</th>\n",
       "      <td>856.034093</td>\n",
       "      <td>-856.034093</td>\n",
       "      <td>MSSub_45</td>\n",
       "    </tr>\n",
       "    <tr>\n",
       "      <th>2</th>\n",
       "      <td>789.832073</td>\n",
       "      <td>-789.832073</td>\n",
       "      <td>Neighborhood_Blmngtn</td>\n",
       "    </tr>\n",
       "    <tr>\n",
       "      <th>67</th>\n",
       "      <td>766.501235</td>\n",
       "      <td>766.501235</td>\n",
       "      <td>GarageQual_Gd</td>\n",
       "    </tr>\n",
       "    <tr>\n",
       "      <th>39</th>\n",
       "      <td>757.014563</td>\n",
       "      <td>-757.014563</td>\n",
       "      <td>MSSub_180</td>\n",
       "    </tr>\n",
       "    <tr>\n",
       "      <th>46</th>\n",
       "      <td>635.546429</td>\n",
       "      <td>635.546429</td>\n",
       "      <td>ExterQual_Fa</td>\n",
       "    </tr>\n",
       "    <tr>\n",
       "      <th>48</th>\n",
       "      <td>611.663271</td>\n",
       "      <td>611.663271</td>\n",
       "      <td>ExterCond_Ex</td>\n",
       "    </tr>\n",
       "    <tr>\n",
       "      <th>1</th>\n",
       "      <td>572.238087</td>\n",
       "      <td>572.238087</td>\n",
       "      <td>Street_Grvl</td>\n",
       "    </tr>\n",
       "    <tr>\n",
       "      <th>59</th>\n",
       "      <td>543.060009</td>\n",
       "      <td>543.060009</td>\n",
       "      <td>KitchenQual_Fa</td>\n",
       "    </tr>\n",
       "    <tr>\n",
       "      <th>28</th>\n",
       "      <td>523.266703</td>\n",
       "      <td>-523.266703</td>\n",
       "      <td>MSSub_40</td>\n",
       "    </tr>\n",
       "    <tr>\n",
       "      <th>62</th>\n",
       "      <td>457.664840</td>\n",
       "      <td>457.664840</td>\n",
       "      <td>FireplaceQu_Fa</td>\n",
       "    </tr>\n",
       "    <tr>\n",
       "      <th>71</th>\n",
       "      <td>430.888897</td>\n",
       "      <td>-430.888897</td>\n",
       "      <td>GarageCond_Gd</td>\n",
       "    </tr>\n",
       "    <tr>\n",
       "      <th>15</th>\n",
       "      <td>346.904479</td>\n",
       "      <td>-346.904479</td>\n",
       "      <td>Neighborhood_NPkVill</td>\n",
       "    </tr>\n",
       "    <tr>\n",
       "      <th>3</th>\n",
       "      <td>340.126996</td>\n",
       "      <td>-340.126996</td>\n",
       "      <td>Neighborhood_Blueste</td>\n",
       "    </tr>\n",
       "    <tr>\n",
       "      <th>72</th>\n",
       "      <td>306.043418</td>\n",
       "      <td>-306.043418</td>\n",
       "      <td>GarageCond_Po</td>\n",
       "    </tr>\n",
       "    <tr>\n",
       "      <th>56</th>\n",
       "      <td>224.698407</td>\n",
       "      <td>-224.698407</td>\n",
       "      <td>BsmtCond_Gd</td>\n",
       "    </tr>\n",
       "    <tr>\n",
       "      <th>30</th>\n",
       "      <td>183.044647</td>\n",
       "      <td>-183.044647</td>\n",
       "      <td>MSSub_50</td>\n",
       "    </tr>\n",
       "    <tr>\n",
       "      <th>50</th>\n",
       "      <td>157.092454</td>\n",
       "      <td>157.092454</td>\n",
       "      <td>ExterCond_Gd</td>\n",
       "    </tr>\n",
       "    <tr>\n",
       "      <th>53</th>\n",
       "      <td>146.837726</td>\n",
       "      <td>-146.837726</td>\n",
       "      <td>BsmtQual_Fa</td>\n",
       "    </tr>\n",
       "    <tr>\n",
       "      <th>32</th>\n",
       "      <td>130.581450</td>\n",
       "      <td>-130.581450</td>\n",
       "      <td>MSSub_70</td>\n",
       "    </tr>\n",
       "    <tr>\n",
       "      <th>70</th>\n",
       "      <td>91.052267</td>\n",
       "      <td>-91.052267</td>\n",
       "      <td>GarageCond_Fa</td>\n",
       "    </tr>\n",
       "    <tr>\n",
       "      <th>25</th>\n",
       "      <td>80.590965</td>\n",
       "      <td>-80.590965</td>\n",
       "      <td>Neighborhood_Timber</td>\n",
       "    </tr>\n",
       "    <tr>\n",
       "      <th>26</th>\n",
       "      <td>67.581956</td>\n",
       "      <td>67.581956</td>\n",
       "      <td>MSSub_20</td>\n",
       "    </tr>\n",
       "    <tr>\n",
       "      <th>64</th>\n",
       "      <td>30.138564</td>\n",
       "      <td>30.138564</td>\n",
       "      <td>FireplaceQu_Po</td>\n",
       "    </tr>\n",
       "    <tr>\n",
       "      <th>23</th>\n",
       "      <td>0.000000</td>\n",
       "      <td>0.000000</td>\n",
       "      <td>Neighborhood_Somerst</td>\n",
       "    </tr>\n",
       "    <tr>\n",
       "      <th>35</th>\n",
       "      <td>0.000000</td>\n",
       "      <td>0.000000</td>\n",
       "      <td>MSSub_85</td>\n",
       "    </tr>\n",
       "    <tr>\n",
       "      <th>51</th>\n",
       "      <td>0.000000</td>\n",
       "      <td>0.000000</td>\n",
       "      <td>ExterCond_Po</td>\n",
       "    </tr>\n",
       "    <tr>\n",
       "      <th>49</th>\n",
       "      <td>0.000000</td>\n",
       "      <td>-0.000000</td>\n",
       "      <td>ExterCond_Fa</td>\n",
       "    </tr>\n",
       "    <tr>\n",
       "      <th>33</th>\n",
       "      <td>0.000000</td>\n",
       "      <td>0.000000</td>\n",
       "      <td>MSSub_75</td>\n",
       "    </tr>\n",
       "  </tbody>\n",
       "</table>\n",
       "<p>73 rows × 3 columns</p>\n",
       "</div>"
      ],
      "text/plain": [
       "        abs_coef          coef              variable\n",
       "0   26278.007766  26278.007766            total_sqft\n",
       "40  13925.688914  13925.688914           OverallQual\n",
       "52  10881.940079  10881.940079           BsmtQual_Ex\n",
       "17   9591.751187   9591.751187  Neighborhood_NoRidge\n",
       "19   9323.905275  -9323.905275  Neighborhood_OldTown\n",
       "65   7998.036787   7998.036787         GarageQual_Ex\n",
       "14   7785.212197  -7785.212197    Neighborhood_NAmes\n",
       "9    7051.039099  -7051.039099  Neighborhood_Edwards\n",
       "69   6377.480067  -6377.480067         GarageCond_Ex\n",
       "58   6305.916882   6305.916882        KitchenQual_Ex\n",
       "41   5991.270086   5991.270086           OverallCond\n",
       "38   5569.400755  -5569.400755             MSSub_160\n",
       "24   5476.685482   5476.685482  Neighborhood_StoneBr\n",
       "37   5455.129741  -5455.129741             MSSub_120\n",
       "44   4449.609792   4449.609792            GarageCars\n",
       "16   4417.010381  -4417.010381   Neighborhood_NWAmes\n",
       "13   4350.167125  -4350.167125  Neighborhood_Mitchel\n",
       "31   4231.882593   4231.882593              MSSub_60\n",
       "21   4100.258702  -4100.258702   Neighborhood_Sawyer\n",
       "7    4093.119788  -4093.119788  Neighborhood_CollgCr\n",
       "5    4020.665090  -4020.665090  Neighborhood_BrkSide\n",
       "18   4002.393554   4002.393554  Neighborhood_NridgHt\n",
       "11   3683.374740  -3683.374740   Neighborhood_IDOTRR\n",
       "10   3521.877014  -3521.877014  Neighborhood_Gilbert\n",
       "45   3001.006228   3001.006228          ExterQual_Ex\n",
       "63   2934.658715   2934.658715        FireplaceQu_Gd\n",
       "61   2708.221799   2708.221799        FireplaceQu_Ex\n",
       "20   2657.325257  -2657.325257    Neighborhood_SWISU\n",
       "54   2635.969938   2635.969938           BsmtQual_Gd\n",
       "43   2562.810568   2562.810568          YearRemodAdd\n",
       "..           ...           ...                   ...\n",
       "47    893.210175    893.210175          ExterQual_Gd\n",
       "57    881.288377    881.288377           BsmtCond_Po\n",
       "29    856.034093   -856.034093              MSSub_45\n",
       "2     789.832073   -789.832073  Neighborhood_Blmngtn\n",
       "67    766.501235    766.501235         GarageQual_Gd\n",
       "39    757.014563   -757.014563             MSSub_180\n",
       "46    635.546429    635.546429          ExterQual_Fa\n",
       "48    611.663271    611.663271          ExterCond_Ex\n",
       "1     572.238087    572.238087           Street_Grvl\n",
       "59    543.060009    543.060009        KitchenQual_Fa\n",
       "28    523.266703   -523.266703              MSSub_40\n",
       "62    457.664840    457.664840        FireplaceQu_Fa\n",
       "71    430.888897   -430.888897         GarageCond_Gd\n",
       "15    346.904479   -346.904479  Neighborhood_NPkVill\n",
       "3     340.126996   -340.126996  Neighborhood_Blueste\n",
       "72    306.043418   -306.043418         GarageCond_Po\n",
       "56    224.698407   -224.698407           BsmtCond_Gd\n",
       "30    183.044647   -183.044647              MSSub_50\n",
       "50    157.092454    157.092454          ExterCond_Gd\n",
       "53    146.837726   -146.837726           BsmtQual_Fa\n",
       "32    130.581450   -130.581450              MSSub_70\n",
       "70     91.052267    -91.052267         GarageCond_Fa\n",
       "25     80.590965    -80.590965   Neighborhood_Timber\n",
       "26     67.581956     67.581956              MSSub_20\n",
       "64     30.138564     30.138564        FireplaceQu_Po\n",
       "23      0.000000      0.000000  Neighborhood_Somerst\n",
       "35      0.000000      0.000000              MSSub_85\n",
       "51      0.000000      0.000000          ExterCond_Po\n",
       "49      0.000000     -0.000000          ExterCond_Fa\n",
       "33      0.000000      0.000000              MSSub_75\n",
       "\n",
       "[73 rows x 3 columns]"
      ]
     },
     "execution_count": 254,
     "metadata": {},
     "output_type": "execute_result"
    }
   ],
   "source": [
    "# lasso coefficients\n",
    "\n",
    "lasso_coef = pd.DataFrame({'variable': X.columns, 'coef': best_lasso.coef_, \\\n",
    "                           'abs_coef': np.abs(best_lasso.coef_)})\n",
    "# lasso_coef.head(50)\n",
    "lasso_coef.sort_values('abs_coef', ascending=False).tail(100)"
   ]
  },
  {
   "cell_type": "code",
   "execution_count": 255,
   "metadata": {
    "collapsed": true
   },
   "outputs": [],
   "source": [
    "top_10 = lasso_coef.sort_values('abs_coef', ascending=False).iloc[:10]"
   ]
  },
  {
   "cell_type": "code",
   "execution_count": 256,
   "metadata": {},
   "outputs": [
    {
     "data": {
      "text/html": [
       "<div>\n",
       "<style>\n",
       "    .dataframe thead tr:only-child th {\n",
       "        text-align: right;\n",
       "    }\n",
       "\n",
       "    .dataframe thead th {\n",
       "        text-align: left;\n",
       "    }\n",
       "\n",
       "    .dataframe tbody tr th {\n",
       "        vertical-align: top;\n",
       "    }\n",
       "</style>\n",
       "<table border=\"1\" class=\"dataframe\">\n",
       "  <thead>\n",
       "    <tr style=\"text-align: right;\">\n",
       "      <th></th>\n",
       "      <th>abs_coef</th>\n",
       "      <th>coef</th>\n",
       "      <th>variable</th>\n",
       "    </tr>\n",
       "  </thead>\n",
       "  <tbody>\n",
       "    <tr>\n",
       "      <th>0</th>\n",
       "      <td>26278.007766</td>\n",
       "      <td>26278.007766</td>\n",
       "      <td>total_sqft</td>\n",
       "    </tr>\n",
       "    <tr>\n",
       "      <th>40</th>\n",
       "      <td>13925.688914</td>\n",
       "      <td>13925.688914</td>\n",
       "      <td>OverallQual</td>\n",
       "    </tr>\n",
       "    <tr>\n",
       "      <th>52</th>\n",
       "      <td>10881.940079</td>\n",
       "      <td>10881.940079</td>\n",
       "      <td>BsmtQual_Ex</td>\n",
       "    </tr>\n",
       "    <tr>\n",
       "      <th>17</th>\n",
       "      <td>9591.751187</td>\n",
       "      <td>9591.751187</td>\n",
       "      <td>Neighborhood_NoRidge</td>\n",
       "    </tr>\n",
       "    <tr>\n",
       "      <th>19</th>\n",
       "      <td>9323.905275</td>\n",
       "      <td>-9323.905275</td>\n",
       "      <td>Neighborhood_OldTown</td>\n",
       "    </tr>\n",
       "    <tr>\n",
       "      <th>65</th>\n",
       "      <td>7998.036787</td>\n",
       "      <td>7998.036787</td>\n",
       "      <td>GarageQual_Ex</td>\n",
       "    </tr>\n",
       "    <tr>\n",
       "      <th>14</th>\n",
       "      <td>7785.212197</td>\n",
       "      <td>-7785.212197</td>\n",
       "      <td>Neighborhood_NAmes</td>\n",
       "    </tr>\n",
       "    <tr>\n",
       "      <th>9</th>\n",
       "      <td>7051.039099</td>\n",
       "      <td>-7051.039099</td>\n",
       "      <td>Neighborhood_Edwards</td>\n",
       "    </tr>\n",
       "    <tr>\n",
       "      <th>69</th>\n",
       "      <td>6377.480067</td>\n",
       "      <td>-6377.480067</td>\n",
       "      <td>GarageCond_Ex</td>\n",
       "    </tr>\n",
       "    <tr>\n",
       "      <th>58</th>\n",
       "      <td>6305.916882</td>\n",
       "      <td>6305.916882</td>\n",
       "      <td>KitchenQual_Ex</td>\n",
       "    </tr>\n",
       "  </tbody>\n",
       "</table>\n",
       "</div>"
      ],
      "text/plain": [
       "        abs_coef          coef              variable\n",
       "0   26278.007766  26278.007766            total_sqft\n",
       "40  13925.688914  13925.688914           OverallQual\n",
       "52  10881.940079  10881.940079           BsmtQual_Ex\n",
       "17   9591.751187   9591.751187  Neighborhood_NoRidge\n",
       "19   9323.905275  -9323.905275  Neighborhood_OldTown\n",
       "65   7998.036787   7998.036787         GarageQual_Ex\n",
       "14   7785.212197  -7785.212197    Neighborhood_NAmes\n",
       "9    7051.039099  -7051.039099  Neighborhood_Edwards\n",
       "69   6377.480067  -6377.480067         GarageCond_Ex\n",
       "58   6305.916882   6305.916882        KitchenQual_Ex"
      ]
     },
     "execution_count": 256,
     "metadata": {},
     "output_type": "execute_result"
    }
   ],
   "source": [
    "top_10"
   ]
  },
  {
   "cell_type": "code",
   "execution_count": 257,
   "metadata": {},
   "outputs": [
    {
     "data": {
      "image/png": "[encoded data removed]",
      "text/plain": [
       "<matplotlib.figure.Figure at 0x117827910>"
      ]
     },
     "metadata": {
      "image/png": {
       "height": 520,
       "width": 572
      }
     },
     "output_type": "display_data"
    },
    {
     "data": {
      "text/plain": [
       "<matplotlib.figure.Figure at 0x115904710>"
      ]
     },
     "metadata": {},
     "output_type": "display_data"
    }
   ],
   "source": [
    "y_pos = np.arange(len(top_10['abs_coef']))\n",
    "fig, ax = plt.subplots(figsize=(10,7))\n",
    "ax.bar(y_pos, top_10['abs_coef'],color=['black'])\n",
    "plt.xticks(y_pos, ['Total Squarefeet', 'Overall Quality', 'Basement Quality', \\\n",
    "                   'North Ridge', 'Old Town', 'Garage Quality', 'North Ames', 'Edwards', 'Garage Condition', 'Kitchen Quality'], rotation='vertical')\n",
    "plt.yticks([])\n",
    "plt.tick_params(axis='both', which='major', labelsize=15)\n",
    "plt.ylim((0,27000))\n",
    "plt.figure(figsize=(3,100))\n",
    "plt.show();"
   ]
  },
  {
   "cell_type": "code",
   "execution_count": 258,
   "metadata": {
    "collapsed": true
   },
   "outputs": [],
   "source": [
    "# predicted y for second model (lasso question 2)\n",
    "\n",
    "y_pred2 = best_ridge.predict(t_Xs)"
   ]
  },
  {
   "cell_type": "code",
   "execution_count": 259,
   "metadata": {
    "scrolled": true
   },
   "outputs": [
    {
     "data": {
      "image/png": "[encoded data removed]",
      "text/plain": [
       "<matplotlib.figure.Figure at 0x117827dd0>"
      ]
     },
     "metadata": {
      "image/png": {
       "height": 371,
       "width": 905
      }
     },
     "output_type": "display_data"
    }
   ],
   "source": [
    "# plot showing predicted y for second model versus actual y\n",
    "\n",
    "plt.figure(figsize=(15, 6))\n",
    "plt.scatter(test_y, y_pred2, s=30, c='r', marker= '+', zorder=10)\n",
    "plt.plot([min(test_y), max(test_y)], [min(test_y), max(test_y)], c='k')\n",
    "plt.ylabel(\"Predicted Values\")\n",
    "plt.xlabel(\"Actual Values\")\n",
    "plt.show();"
   ]
  },
  {
   "cell_type": "code",
   "execution_count": 260,
   "metadata": {},
   "outputs": [
    {
     "data": {
      "image/png": "[encoded data removed]",
      "text/plain": [
       "<matplotlib.figure.Figure at 0x11b42a1d0>"
      ]
     },
     "metadata": {
      "image/png": {
       "height": 485,
       "width": 915
      }
     },
     "output_type": "display_data"
    }
   ],
   "source": [
    "# Plot showing residuals\n",
    "\n",
    "fig, ax = plt.subplots(figsize=(15,7))\n",
    "\n",
    "ax.scatter(x=test_y, y=y_pred2, c='k')\n",
    "ax.plot([min(test_y), max(test_y)], [min(test_y), max(test_y)], color='k');\n",
    "fig.suptitle('Plot Showing Residuals', fontsize=25)\n",
    "plt.ylabel(\"Predicted Home Values ($)\", fontsize=20)\n",
    "plt.xlabel(\"Actual Home Values ($)\", fontsize=20)\n",
    "for x, y in zip(test_y, y_pred2):\n",
    "    ax.plot((x, x), (x, y), 'r-')"
   ]
  },
  {
   "cell_type": "code",
   "execution_count": 261,
   "metadata": {},
   "outputs": [
    {
     "data": {
      "text/html": [
       "<div>\n",
       "<style>\n",
       "    .dataframe thead tr:only-child th {\n",
       "        text-align: right;\n",
       "    }\n",
       "\n",
       "    .dataframe thead th {\n",
       "        text-align: left;\n",
       "    }\n",
       "\n",
       "    .dataframe tbody tr th {\n",
       "        vertical-align: top;\n",
       "    }\n",
       "</style>\n",
       "<table border=\"1\" class=\"dataframe\">\n",
       "  <thead>\n",
       "    <tr style=\"text-align: right;\">\n",
       "      <th></th>\n",
       "      <th>Actual y</th>\n",
       "      <th>Predicted y</th>\n",
       "    </tr>\n",
       "  </thead>\n",
       "  <tbody>\n",
       "    <tr>\n",
       "      <th>16</th>\n",
       "      <td>149000</td>\n",
       "      <td>152292.886931</td>\n",
       "    </tr>\n",
       "    <tr>\n",
       "      <th>24</th>\n",
       "      <td>154000</td>\n",
       "      <td>148273.300385</td>\n",
       "    </tr>\n",
       "    <tr>\n",
       "      <th>26</th>\n",
       "      <td>134800</td>\n",
       "      <td>145865.383183</td>\n",
       "    </tr>\n",
       "    <tr>\n",
       "      <th>27</th>\n",
       "      <td>306000</td>\n",
       "      <td>308455.477238</td>\n",
       "    </tr>\n",
       "    <tr>\n",
       "      <th>33</th>\n",
       "      <td>165500</td>\n",
       "      <td>167038.861069</td>\n",
       "    </tr>\n",
       "    <tr>\n",
       "      <th>38</th>\n",
       "      <td>109000</td>\n",
       "      <td>140499.205503</td>\n",
       "    </tr>\n",
       "    <tr>\n",
       "      <th>45</th>\n",
       "      <td>319900</td>\n",
       "      <td>324203.449034</td>\n",
       "    </tr>\n",
       "    <tr>\n",
       "      <th>52</th>\n",
       "      <td>110000</td>\n",
       "      <td>135911.128214</td>\n",
       "    </tr>\n",
       "    <tr>\n",
       "      <th>63</th>\n",
       "      <td>140000</td>\n",
       "      <td>144693.481663</td>\n",
       "    </tr>\n",
       "    <tr>\n",
       "      <th>66</th>\n",
       "      <td>180000</td>\n",
       "      <td>222926.621918</td>\n",
       "    </tr>\n",
       "  </tbody>\n",
       "</table>\n",
       "</div>"
      ],
      "text/plain": [
       "    Actual y    Predicted y\n",
       "16    149000  152292.886931\n",
       "24    154000  148273.300385\n",
       "26    134800  145865.383183\n",
       "27    306000  308455.477238\n",
       "33    165500  167038.861069\n",
       "38    109000  140499.205503\n",
       "45    319900  324203.449034\n",
       "52    110000  135911.128214\n",
       "63    140000  144693.481663\n",
       "66    180000  222926.621918"
      ]
     },
     "execution_count": 261,
     "metadata": {},
     "output_type": "execute_result"
    }
   ],
   "source": [
    "# Dataframe showing predicted y in the second model versus actual y\n",
    "\n",
    "values = pd.DataFrame({'Predicted y': y_pred2, 'Actual y': test_y})\n",
    "\n",
    "rms = sqrt(mean_squared_error(test_y, y_pred2))\n",
    "values.head(10)"
   ]
  },
  {
   "cell_type": "code",
   "execution_count": 262,
   "metadata": {},
   "outputs": [
    {
     "name": "stdout",
     "output_type": "stream",
     "text": [
      "Root mean square error is $30146.3624269\n"
     ]
    }
   ],
   "source": [
    "print \"Root mean square error is $\" + str(rms)"
   ]
  },
  {
   "cell_type": "code",
   "execution_count": 263,
   "metadata": {},
   "outputs": [],
   "source": [
    "# dataframe comparing model 1 predicted y and model 2 predicted y\n",
    "\n",
    "df_price_est = pd.DataFrame({'Model 1 y_pred' : y_pred, 'Model 2 y_pred' : y_pred2, \\\n",
    "                             'Difference' : y_pred2 - y_pred, 'Abs_diff' : np.abs(y_pred2 - y_pred)})"
   ]
  },
  {
   "cell_type": "code",
   "execution_count": 264,
   "metadata": {},
   "outputs": [
    {
     "data": {
      "text/html": [
       "<div>\n",
       "<style>\n",
       "    .dataframe thead tr:only-child th {\n",
       "        text-align: right;\n",
       "    }\n",
       "\n",
       "    .dataframe thead th {\n",
       "        text-align: left;\n",
       "    }\n",
       "\n",
       "    .dataframe tbody tr th {\n",
       "        vertical-align: top;\n",
       "    }\n",
       "</style>\n",
       "<table border=\"1\" class=\"dataframe\">\n",
       "  <thead>\n",
       "    <tr style=\"text-align: right;\">\n",
       "      <th></th>\n",
       "      <th>Abs_diff</th>\n",
       "      <th>Difference</th>\n",
       "      <th>Model 1 y_pred</th>\n",
       "      <th>Model 2 y_pred</th>\n",
       "    </tr>\n",
       "  </thead>\n",
       "  <tbody>\n",
       "    <tr>\n",
       "      <th>41</th>\n",
       "      <td>42287.958317</td>\n",
       "      <td>-42287.958317</td>\n",
       "      <td>107672.906149</td>\n",
       "      <td>65384.947832</td>\n",
       "    </tr>\n",
       "    <tr>\n",
       "      <th>27</th>\n",
       "      <td>42702.558800</td>\n",
       "      <td>-42702.558800</td>\n",
       "      <td>287132.454427</td>\n",
       "      <td>244429.895626</td>\n",
       "    </tr>\n",
       "    <tr>\n",
       "      <th>160</th>\n",
       "      <td>45110.907915</td>\n",
       "      <td>-45110.907915</td>\n",
       "      <td>90420.726258</td>\n",
       "      <td>45309.818342</td>\n",
       "    </tr>\n",
       "    <tr>\n",
       "      <th>162</th>\n",
       "      <td>46213.678110</td>\n",
       "      <td>-46213.678110</td>\n",
       "      <td>205988.342569</td>\n",
       "      <td>159774.664459</td>\n",
       "    </tr>\n",
       "    <tr>\n",
       "      <th>69</th>\n",
       "      <td>49601.594447</td>\n",
       "      <td>-49601.594447</td>\n",
       "      <td>285787.343957</td>\n",
       "      <td>236185.749510</td>\n",
       "    </tr>\n",
       "  </tbody>\n",
       "</table>\n",
       "</div>"
      ],
      "text/plain": [
       "         Abs_diff    Difference  Model 1 y_pred  Model 2 y_pred\n",
       "41   42287.958317 -42287.958317   107672.906149    65384.947832\n",
       "27   42702.558800 -42702.558800   287132.454427   244429.895626\n",
       "160  45110.907915 -45110.907915    90420.726258    45309.818342\n",
       "162  46213.678110 -46213.678110   205988.342569   159774.664459\n",
       "69   49601.594447 -49601.594447   285787.343957   236185.749510"
      ]
     },
     "execution_count": 264,
     "metadata": {},
     "output_type": "execute_result"
    }
   ],
   "source": [
    "\n",
    "df_price_est.sort_values('Difference', ascending=False).tail()"
   ]
  },
  {
   "cell_type": "code",
   "execution_count": 265,
   "metadata": {},
   "outputs": [
    {
     "data": {
      "text/html": [
       "<div>\n",
       "<style>\n",
       "    .dataframe thead tr:only-child th {\n",
       "        text-align: right;\n",
       "    }\n",
       "\n",
       "    .dataframe thead th {\n",
       "        text-align: left;\n",
       "    }\n",
       "\n",
       "    .dataframe tbody tr th {\n",
       "        vertical-align: top;\n",
       "    }\n",
       "</style>\n",
       "<table border=\"1\" class=\"dataframe\">\n",
       "  <thead>\n",
       "    <tr style=\"text-align: right;\">\n",
       "      <th></th>\n",
       "      <th>Abs_diff</th>\n",
       "      <th>Difference</th>\n",
       "      <th>Model 1 y_pred</th>\n",
       "      <th>Model 2 y_pred</th>\n",
       "    </tr>\n",
       "  </thead>\n",
       "  <tbody>\n",
       "    <tr>\n",
       "      <th>0</th>\n",
       "      <td>17969.613827</td>\n",
       "      <td>17969.613827</td>\n",
       "      <td>134323.273104</td>\n",
       "      <td>152292.886931</td>\n",
       "    </tr>\n",
       "    <tr>\n",
       "      <th>1</th>\n",
       "      <td>18747.269688</td>\n",
       "      <td>18747.269688</td>\n",
       "      <td>129526.030697</td>\n",
       "      <td>148273.300385</td>\n",
       "    </tr>\n",
       "    <tr>\n",
       "      <th>2</th>\n",
       "      <td>16563.855833</td>\n",
       "      <td>16563.855833</td>\n",
       "      <td>129301.527351</td>\n",
       "      <td>145865.383183</td>\n",
       "    </tr>\n",
       "    <tr>\n",
       "      <th>3</th>\n",
       "      <td>4054.728047</td>\n",
       "      <td>-4054.728047</td>\n",
       "      <td>312510.205285</td>\n",
       "      <td>308455.477238</td>\n",
       "    </tr>\n",
       "    <tr>\n",
       "      <th>4</th>\n",
       "      <td>14677.137577</td>\n",
       "      <td>-14677.137577</td>\n",
       "      <td>181715.998646</td>\n",
       "      <td>167038.861069</td>\n",
       "    </tr>\n",
       "  </tbody>\n",
       "</table>\n",
       "</div>"
      ],
      "text/plain": [
       "       Abs_diff    Difference  Model 1 y_pred  Model 2 y_pred\n",
       "0  17969.613827  17969.613827   134323.273104   152292.886931\n",
       "1  18747.269688  18747.269688   129526.030697   148273.300385\n",
       "2  16563.855833  16563.855833   129301.527351   145865.383183\n",
       "3   4054.728047  -4054.728047   312510.205285   308455.477238\n",
       "4  14677.137577 -14677.137577   181715.998646   167038.861069"
      ]
     },
     "execution_count": 265,
     "metadata": {},
     "output_type": "execute_result"
    }
   ],
   "source": [
    "df_price_est.head()"
   ]
  },
  {
   "cell_type": "markdown",
   "metadata": {},
   "source": [
    "The suggested model is the lasso with an R-Squared value of 0.86.  Compared to the first model (R-squared value of 0.82), there is a 0.04 variance in models and a 4 % added benefit in using the second model with renovetable features."
   ]
  },
  {
   "cell_type": "markdown",
   "metadata": {},
   "source": [
    "If the difference between buying the property (y predicted model 1) and selling the property (y predicted model 2) after remodeling is negative, the company should not purchase the property.  Overall, the model should be trusted because there is an overall 4 % increase in accuracy that correlates to in"
   ]
  },
  {
   "cell_type": "markdown",
   "metadata": {},
   "source": [
    "The estimates of effects must be in terms of dollars added or subtracted from the house value.\n",
    "The effects must be on the variance in price remaining from the first model.\n",
    "\n",
    "Evaluate the effect in dollars of the renovate-able features.\n",
    "How would your company use this second model and its coefficients to determine whether they should buy a property or not? Explain how the company can use the two models you have built to determine if they can make money.\n",
    "Investigate how much of the variance in price remaining is explained by these features.\n",
    "Do you trust your model? Should it be used to evaluate which properties to buy and fix up?"
   ]
  },
  {
   "cell_type": "markdown",
   "metadata": {},
   "source": [
    "<img src=\"http://imgur.com/GCAf1UX.png\" style=\"float: left; margin: 25px 15px 0px 0px; height: 25px\">\n",
    "\n",
    "## 3. What property characteristics predict an \"abnormal\" sale?\n",
    "\n",
    "---\n",
    "\n",
    "The `SaleCondition` feature indicates the circumstances of the house sale. From the data file, we can see that the possibilities are:\n",
    "\n",
    "       Normal\tNormal Sale\n",
    "       Abnorml\tAbnormal Sale -  trade, foreclosure, short sale\n",
    "       AdjLand\tAdjoining Land Purchase\n",
    "       Alloca\tAllocation - two linked properties with separate deeds, typically condo with a garage unit\t\n",
    "       Family\tSale between family members\n",
    "       Partial\tHome was not completed when last assessed (associated with New Homes)\n",
    "       \n",
    "One of the executives at your company has an \"in\" with higher-ups at the major regional bank. His friends at the bank have made him a proposal: if he can reliably indicate what features, if any, predict \"abnormal\" sales (foreclosures, short sales, etc.), then in return the bank will give him first dibs on the pre-auction purchase of those properties (at a dirt-cheap price).\n",
    "\n",
    "He has tasked you with determining (and adequately validating) which features of a property predict this type of sale. \n",
    "\n",
    "---\n",
    "\n",
    "**Your task:**\n",
    "1. Determine which features predict the `Abnorml` category in the `SaleCondition` feature.\n",
    "- Justify your results.\n",
    "\n",
    "This is a challenging task that tests your ability to perform classification analysis in the face of severe class imbalance. You may find that simply running a classifier on the full dataset to predict the category ends up useless: when there is bad class imbalance classifiers often tend to simply guess the majority class.\n",
    "\n",
    "It is up to you to determine how you will tackle this problem. I recommend doing some research to find out how others have dealt with the problem in the past. Make sure to justify your solution. Don't worry about it being \"the best\" solution, but be rigorous.\n",
    "\n",
    "Be sure to indicate which features are predictive (if any) and whether they are positive or negative predictors of abnormal sales."
   ]
  },
  {
   "cell_type": "code",
   "execution_count": 5,
   "metadata": {
    "collapsed": true
   },
   "outputs": [],
   "source": [
    "# A:"
   ]
  }
 ],
 "metadata": {
  "kernelspec": {
   "display_name": "Python 2",
   "language": "python",
   "name": "python2"
  },
  "language_info": {
   "codemirror_mode": {
    "name": "ipython",
    "version": 2
   },
   "file_extension": ".py",
   "mimetype": "text/x-python",
   "name": "python",
   "nbconvert_exporter": "python",
   "pygments_lexer": "ipython2",
   "version": "2.7.13"
  }
 },
 "nbformat": 4,
 "nbformat_minor": 2
}
